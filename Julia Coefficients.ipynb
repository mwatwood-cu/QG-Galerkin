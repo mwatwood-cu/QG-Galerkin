{
 "cells": [
  {
   "cell_type": "code",
   "execution_count": null,
   "metadata": {},
   "outputs": [],
   "source": [
    "Pkg.add(\"Jacobi\")\n",
    "Pkg.add(\"FastGaussQuadrature\")\n",
    "Pkg.update()"
   ]
  },
  {
   "cell_type": "code",
   "execution_count": 18,
   "metadata": {},
   "outputs": [
    {
     "data": {
      "text/plain": [
       "L_ij (generic function with 1 method)"
      ]
     },
     "execution_count": 18,
     "metadata": {},
     "output_type": "execute_result"
    }
   ],
   "source": [
    "using FastGaussQuadrature\n",
    "using Jacobi\n",
    "\n",
    "f_0 = 1\n",
    "H = 1\n",
    "nodePoints=100\n",
    "\n",
    "function b_n(n::Int64)\n",
    "    numerator = -n*(n+1)\n",
    "    denominator = (n+2)*(n+3)\n",
    "    return numerator/denominator\n",
    "end\n",
    "\n",
    "function M_ij(size::Int64)\n",
    "    fullMatrix = zeros(size,size)\n",
    "    for i=0:size-1\n",
    "        for j=0:size-1\n",
    "            if i==j\n",
    "                fullMatrix[i+1, j+1] = 2/(2*i+1) + (b_n(i)*b_n(i))*(2/(2*i+5))\n",
    "            elseif i==j+2\n",
    "                fullMatrix[i+1, j+1] = b_n(j)*(2/(2*j+5))\n",
    "            elseif i==j-2\n",
    "                fullMatrix[i+1, j+1] = b_n(i)*(2/(2*j+5))\n",
    "            end\n",
    "        end\n",
    "    end\n",
    "    return fullMatrix/2\n",
    "end\n",
    "\n",
    "function B_ij(size::Int64)\n",
    "    fullMatrix = zeros(size,size)\n",
    "    for i=0:size-1\n",
    "        for j=0:size-1\n",
    "            if i==j\n",
    "                fullMatrix[i+1,j+1]=2/(2*i+1)\n",
    "            elseif i==j-2\n",
    "                fullMatrix[i+1,j+1]=b_n(i)*2/(2*i+5)\n",
    "            end\n",
    "        end\n",
    "    end\n",
    "    return fullMatrix/2\n",
    "end\n",
    "\n",
    "function L_ij(N::Function, size::Int64)\n",
    "    fullArray = zeros(size,size)\n",
    "    values, weights = gausslegendre(nodePoints)\n",
    "    for i=0:size-1\n",
    "        for j=0:size-1\n",
    "            sumTotal = 0\n",
    "            for k=0:nodePoints-1\n",
    "                dp_i = 2.*(djacobi(values[k+1],i,0,0)+b_n(i)*djacobi(values[k+1],i+2,0,0))\n",
    "                dp_j = 2.*(djacobi(values[k+1],j,0,0)+b_n(j)*djacobi(values[k+1],j+2,0,0))\n",
    "                newPiece = weights[k+1]*(f_0*f_0/(H*H*N((values[k+1]+1.)/2.)*N((values[k+1]+1.)/2.)))*dp_i*dp_j\n",
    "                sumTotal = sumTotal + newPiece\n",
    "            end\n",
    "            fullArray[i+1,j+1] = .5*sumTotal\n",
    "        end\n",
    "    end\n",
    "    return fullArray\n",
    "end"
   ]
  },
  {
   "cell_type": "code",
   "execution_count": 19,
   "metadata": {},
   "outputs": [
    {
     "data": {
      "text/plain": [
       "u_galerkin (generic function with 1 method)"
      ]
     },
     "execution_count": 19,
     "metadata": {},
     "output_type": "execute_result"
    }
   ],
   "source": [
    "function dq_g_rhs(dq_bar::Function, size::Int64)\n",
    "    fullArray = zeros(size)\n",
    "    values, weights = gausslegendre(nodePoints)\n",
    "    for i =0:size-1\n",
    "        sumTotal = 0\n",
    "        for k=0:nodePoints-1\n",
    "            p_n = jacobi(values[k+1], i,0,0) + b_n(i)*jacobi(values[k+1],i+2,0,0)\n",
    "            sumTotal = sumTotal + weights[k+1]*p_n*dq_bar((values[k+1]+1.)/2.)\n",
    "        end\n",
    "        fullArray[i+1] = .5*sumTotal\n",
    "    end\n",
    "    return fullArray\n",
    "end\n",
    "\n",
    "function dq_galerkin_coefficients(dq_bar::Function, size::Int64)\n",
    "    u_rhs = dq_g_rhs(dq_bar, size)\n",
    "    return u_rhs\n",
    "end\n",
    "\n",
    "function dq_galerkin(coefficients, size::Int64, value::Float64)\n",
    "    sumTotal = 0\n",
    "    for i=0:size-1\n",
    "        sumTotal = sumTotal + coefficients[i+1]*jacobi(2.*value-1.,i,0,0)\n",
    "    end\n",
    "    return sumTotal\n",
    "end\n",
    "\n",
    "function p_psi_function(size::Int64, value::Float64)\n",
    "    fullArray = zeros(size)\n",
    "    for i=0:size-1\n",
    "        fullArray[i+1] = jacobi(2.*value-1.,i,0,0)+b_n(i)*jacobi(2.*value-1.,i+2,0,0)\n",
    "    end\n",
    "    return fullArray\n",
    "end\n",
    "\n",
    "function p_q_function(size::Int64, value::Float64)\n",
    "    fullArray = zeros(size)\n",
    "    for i=0:size-1\n",
    "        fullArray[i+1] = jacobi(2.*value-1.,i,0,0)\n",
    "    end\n",
    "    return fullArray\n",
    "end\n",
    "\n",
    "function dy_vartheta_bar(N::Function, du_bar::Function, value::Float64)\n",
    "    return -(f_0*f_0/(H*H*N(value)*N(value)))*du_bar(value)\n",
    "end\n",
    "\n",
    "function dy_psi(u_bar::Function, value::Float64)\n",
    "    return -u_bar(value)\n",
    "end\n",
    "\n",
    "function dy_psi_galerkin(u_bar_coefficients, size::Int64, value::Float64)\n",
    "    return -u_galerkin(u_bar_coefficients, size, value)\n",
    "end\n",
    "\n",
    "function u_galerkin_coefficients(dq_coefficients, du_bar::Function, N::Function, size::Int64, LMatrix, BMatrix)\n",
    "    r_piece1 = BMatrix*dq_coefficients\n",
    "    r_piece2 = dy_vartheta_bar(N,du_bar,1.0)*p_psi_function(size,1.0)\n",
    "    r_piece3 = dy_vartheta_bar(N,du_bar,0.0)*p_psi_function(size,0.0)\n",
    "    rhs = r_piece1-r_piece2+r_piece3\n",
    "    return LMatrix \\ rhs\n",
    "end\n",
    "\n",
    "function u_galerkin(coefficients, size::Int64, value::Float64)\n",
    "    sumTotal = 0\n",
    "    for i=0:size-1\n",
    "        sumTotal = sumTotal + coefficients[i+1]*(jacobi(2.*value -1., i, 0,0)+b_n(i)*jacobi(2.*value -1.,i+2,0,0))\n",
    "    end\n",
    "    return sumTotal\n",
    "end"
   ]
  },
  {
   "cell_type": "code",
   "execution_count": 10,
   "metadata": {},
   "outputs": [
    {
     "data": {
      "text/plain": [
       "Q_ij (generic function with 1 method)"
      ]
     },
     "execution_count": 10,
     "metadata": {},
     "output_type": "execute_result"
    }
   ],
   "source": [
    "function U_ij(size::Int64, u_galerkin_coefficients)\n",
    "    fullArray = zeros(size,size)\n",
    "    values, weights = gausslegendre(nodePoints)\n",
    "    for i=0:size-1\n",
    "        for j=0:size-1\n",
    "            sumTotal = 0\n",
    "            for k=0:nodePoints-1\n",
    "                p_psi = jacobi(values[k+1],i,0,0)+b_n(i)*jacobi(values[k+1],i+2,0,0)\n",
    "                p_q = jacobi(values[k+1],j,0,0)\n",
    "                u_galerk = u_galerkin(u_galerkin_coefficients, size, (values[k+1]+1.)/2.)\n",
    "                sumTotal = sumTotal + weights[k+1]*p_psi*p_q*u_galerk\n",
    "            end\n",
    "            fullArray[i+1, j+1] = .5*sumTotal\n",
    "        end\n",
    "    end\n",
    "    return fullArray\n",
    "end\n",
    "\n",
    "function Q_ij(size::Int64, dq_galerkin_coefficients)\n",
    "    fullArray = zeros(size,size)\n",
    "    values, weights = gausslegendre(nodePoints)\n",
    "    for i=0:size-1\n",
    "        for j=0:size-1\n",
    "            sumTotal = 0\n",
    "            for k=0:nodePoints-1\n",
    "                dq_galerk = dq_galerkin(dq_galerkin_coefficients, size, (values[k+1]+1.)/2.)\n",
    "                p_psi_i = jacobi(values[k+1],i,0,0)+b_n(i)*jacobi(values[k+1],i+2,0,0)\n",
    "                p_psi_j = jacobi(values[k+1],j,0,0)+b_n(j)*jacobi(values[k+1],j+2,0,0)\n",
    "                sumTotal = sumTotal + weights[k+1]*dq_galerk*p_psi_i*p_psi_j\n",
    "            end\n",
    "            fullArray[i+1, j+1] = .5*sumTotal\n",
    "        end\n",
    "    end\n",
    "    return fullArray\n",
    "end"
   ]
  },
  {
   "cell_type": "code",
   "execution_count": 21,
   "metadata": {},
   "outputs": [
    {
     "ename": "LoadError",
     "evalue": "\u001b[91mBase.LinAlg.SingularException(1)\u001b[39m",
     "output_type": "error",
     "traceback": [
      "\u001b[91mBase.LinAlg.SingularException(1)\u001b[39m",
      "",
      "Stacktrace:",
      " [1] \u001b[1minv!\u001b[22m\u001b[22m at \u001b[1m.\\linalg\\lu.jl:308\u001b[22m\u001b[22m [inlined]",
      " [2] \u001b[1minv\u001b[22m\u001b[22m\u001b[1m(\u001b[22m\u001b[22m::Base.LinAlg.LU{Float64,Array{Float64,2}}\u001b[1m)\u001b[22m\u001b[22m at \u001b[1m.\\linalg\\lu.jl:310\u001b[22m\u001b[22m",
      " [3] \u001b[1minv\u001b[22m\u001b[22m\u001b[1m(\u001b[22m\u001b[22m::Array{Float64,2}\u001b[1m)\u001b[22m\u001b[22m at \u001b[1m.\\linalg\\dense.jl:659\u001b[22m\u001b[22m",
      " [4] \u001b[1minclude_string\u001b[22m\u001b[22m\u001b[1m(\u001b[22m\u001b[22m::String, ::String\u001b[1m)\u001b[22m\u001b[22m at \u001b[1m.\\loading.jl:522\u001b[22m\u001b[22m"
     ]
    }
   ],
   "source": [
    "function N_constant(value::Float64)\n",
    "    return 1.\n",
    "end\n",
    "\n",
    "function z_linear(value::Float64)\n",
    "    return value\n",
    "end\n",
    "\n",
    "function dz(value::Float64)\n",
    "    return 1\n",
    "end \n",
    "\n",
    "function dq(value::Float64)\n",
    "    return 0\n",
    "end\n",
    "matrixSize = 10\n",
    "B = B_ij(matrixSize)\n",
    "L = L_ij(N_constant, matrixSize)\n",
    "M = M_ij(matrixSize)\n",
    "\n",
    "print(inv(L))\n",
    "\n",
    "dqc = dq_galerkin_coefficients(dq,matrixSize)\n",
    "ugc = u_galerkin_coefficients(dqc, dz, N_constant, matrixSize, L, B)\n",
    "u_galerkin(ugc, matrixSize, .5)\n",
    "#U_ij(5, ugc)\n",
    "\n",
    "#dq_galerkin(dqc, 5, .3)\n",
    "#Q_ij(5, dqc)"
   ]
  },
  {
   "cell_type": "code",
   "execution_count": null,
   "metadata": {},
   "outputs": [],
   "source": [
    "function growthRateEigenValues(sizeOfMatrix, beta_value, ky, kxStart, kxFinish, steps)\n",
    "    B = B_ij(sizeOfMatrix)\n",
    "    L = L_ij(N_constant, sizeOfMatrix)\n",
    "    M = M_ij(sizeOfMatrix)\n",
    "    u_coefficients = u_galerkin_coefficients(z_linear,sizeOfMatrix,M)\n",
    "    U = U_ij(sizeOfMatrix, u_coefficients)\n",
    "    dq_coefficients = dq_galerkin_coefficients(u_coefficients, dz, N_constant, sizeOfMatrix, B)\n",
    "    Q = Q_ij(sizeOfMatrix, dq_coefficients)\n",
    "    print(\"Matrices Computed\")\n",
    "    growthRates = zeros(steps)\n",
    "    kxValues = linspace(kxStart,kxFinish, steps)\n",
    "    for i=1:steps\n",
    "        kx = kxValues[i]\n",
    "        lhs = (U-(Q+beta_value*M)*inv((kx*kx+ky*ky)*M+L)*B)\n",
    "        (value, vectors) = eigs(lhs, B, nev=1, which=:LI)\n",
    "        growthRates[i] = imag(value[1])\n",
    "    end\n",
    "    return growthRates\n",
    "end"
   ]
  },
  {
   "cell_type": "code",
   "execution_count": null,
   "metadata": {},
   "outputs": [],
   "source": [
    "#growthRateEigenValues(15, 0, 0, 1, 5, 100)\n"
   ]
  },
  {
   "cell_type": "code",
   "execution_count": null,
   "metadata": {},
   "outputs": [],
   "source": []
  },
  {
   "cell_type": "code",
   "execution_count": null,
   "metadata": {},
   "outputs": [],
   "source": []
  }
 ],
 "metadata": {
  "kernelspec": {
   "display_name": "Julia 0.6.2",
   "language": "julia",
   "name": "julia-0.6"
  },
  "language_info": {
   "file_extension": ".jl",
   "mimetype": "application/julia",
   "name": "julia",
   "version": "0.6.2"
  }
 },
 "nbformat": 4,
 "nbformat_minor": 2
}
