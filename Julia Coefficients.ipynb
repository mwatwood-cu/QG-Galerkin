{
 "cells": [
  {
   "cell_type": "code",
   "execution_count": 5,
   "metadata": {},
   "outputs": [
    {
     "data": {
      "text/plain": [
       "M_in (generic function with 1 method)"
      ]
     },
     "execution_count": 5,
     "metadata": {},
     "output_type": "execute_result"
    }
   ],
   "source": [
    "function b_n(n::Int64)\n",
    "    numerator = -n*(n+1)\n",
    "    denominator = (n+2)*(n+3)\n",
    "    return numerator/denominator\n",
    "end\n",
    "\n",
    "function M_in(size::Int64)\n",
    "    fullMatrix = zeros(size,size)\n",
    "    for i=0:size-1\n",
    "        for j=0:size-1\n",
    "            if i==j\n",
    "                fullMatrix[i+1, j+1] = 2/(2*i+1) + (b_n(i)*b_n(i))*(2/(2*i+5))\n",
    "            elseif i==j+2\n",
    "                fullMatrix[i+1, j+1] = b_n(j)*(2/(2*j+5))\n",
    "            elseif i==j-2\n",
    "                fullMatrix[i+1, j+1] = b_n(i)*(2/(2*j+5))\n",
    "            end\n",
    "        end\n",
    "    end\n",
    "    return fullMatrix\n",
    "end\n",
    "\n",
    "function B_in(size::Int64))\n",
    "    fullMatrix = zeros(size,size)\n",
    "    for i=0:size-1\n",
    "        for j=0:size-1\n",
    "            if i==j\n",
    "                fullMatrix[i+1,j+1]=2/(2*i+1)\n",
    "            elseif i==j+2\n",
    "                fullMatrix[i+1,j+1]=b_n(j)*2/(2*j+5)\n",
    "            end\n",
    "        end\n",
    "    end\n",
    "    return fullMatrix\n",
    "end"
   ]
  },
  {
   "cell_type": "code",
   "execution_count": 6,
   "metadata": {},
   "outputs": [
    {
     "data": {
      "text/plain": [
       "5×5 Array{Float64,2}:\n",
       " 2.0   0.0        0.0         0.0        0.0      \n",
       " 0.0   0.674603   0.0        -0.030303   0.0      \n",
       " 0.0   0.0        0.42        0.0       -0.0461538\n",
       " 0.0  -0.047619   0.0         0.314805   0.0      \n",
       " 0.0   0.0       -0.0666667   0.0        0.257108 "
      ]
     },
     "execution_count": 6,
     "metadata": {},
     "output_type": "execute_result"
    }
   ],
   "source": [
    "M_in(5)"
   ]
  },
  {
   "cell_type": "code",
   "execution_count": null,
   "metadata": {},
   "outputs": [],
   "source": []
  }
 ],
 "metadata": {
  "kernelspec": {
   "display_name": "Julia 0.6.2",
   "language": "julia",
   "name": "julia-0.6"
  },
  "language_info": {
   "file_extension": ".jl",
   "mimetype": "application/julia",
   "name": "julia",
   "version": "0.6.2"
  }
 },
 "nbformat": 4,
 "nbformat_minor": 2
}
