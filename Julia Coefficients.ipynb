{
 "cells": [
  {
   "cell_type": "code",
   "execution_count": 105,
   "metadata": {},
   "outputs": [
    {
     "name": "stderr",
     "output_type": "stream",
     "text": [
      "\u001b[1m\u001b[36mINFO: \u001b[39m\u001b[22m\u001b[36mPackage Jacobi is already installed\n",
      "\u001b[39m\u001b[1m\u001b[36mINFO: \u001b[39m\u001b[22m\u001b[36mMETADATA might be out-of-date — you may not have the latest version of Jacobi\n",
      "\u001b[39m\u001b[1m\u001b[36mINFO: \u001b[39m\u001b[22m\u001b[36mUse `Pkg.update()` to get the latest versions of your packages\n",
      "\u001b[39m\u001b[1m\u001b[36mINFO: \u001b[39m\u001b[22m\u001b[36mCloning cache of FastGaussQuadrature from https://github.com/ajt60gaibb/FastGaussQuadrature.jl.git\n",
      "\u001b[39m\u001b[1m\u001b[36mINFO: \u001b[39m\u001b[22m\u001b[36mInstalling FastGaussQuadrature v0.3.0\n",
      "\u001b[39m\u001b[1m\u001b[36mINFO: \u001b[39m\u001b[22m\u001b[36mBuilding SpecialFunctions\n",
      "\u001b[39m\u001b[1m\u001b[36mINFO: \u001b[39m\u001b[22m\u001b[36mPackage database updated\n",
      "\u001b[39m\u001b[1m\u001b[36mINFO: \u001b[39m\u001b[22m\u001b[36mMETADATA might be out-of-date — you may not have the latest version of FastGaussQuadrature\n",
      "\u001b[39m\u001b[1m\u001b[36mINFO: \u001b[39m\u001b[22m\u001b[36mUse `Pkg.update()` to get the latest versions of your packages\n",
      "\u001b[39m"
     ]
    }
   ],
   "source": [
    "Pkg.add(\"Jacobi\")\n",
    "Pkg.add(\"FastGaussQuadrature\")"
   ]
  },
  {
   "cell_type": "code",
   "execution_count": 106,
   "metadata": {},
   "outputs": [
    {
     "name": "stderr",
     "output_type": "stream",
     "text": [
      "\u001b[1m\u001b[36mINFO: \u001b[39m\u001b[22m\u001b[36mPrecompiling module FastGaussQuadrature.\n",
      "\u001b[39m\u001b[1m\u001b[33mWARNING: \u001b[39m\u001b[22m\u001b[33mModule Compat with uuid 53401800532889 is missing from the cache.\n",
      "This may mean module Compat does not support precompilation but is imported by a module that does.\u001b[39m\n",
      "\u001b[1m\u001b[91mERROR: \u001b[39m\u001b[22mLoadError: \u001b[91mDeclaring __precompile__(false) is not allowed in files that are being precompiled.\u001b[39m\n",
      "Stacktrace:\n",
      " [1] \u001b[1m_require\u001b[22m\u001b[22m\u001b[1m(\u001b[22m\u001b[22m::Symbol\u001b[1m)\u001b[22m\u001b[22m at \u001b[1m.\\loading.jl:455\u001b[22m\u001b[22m\n",
      " [2] \u001b[1mrequire\u001b[22m\u001b[22m\u001b[1m(\u001b[22m\u001b[22m::Symbol\u001b[1m)\u001b[22m\u001b[22m at \u001b[1m.\\loading.jl:405\u001b[22m\u001b[22m\n",
      " [3] \u001b[1minclude_from_node1\u001b[22m\u001b[22m\u001b[1m(\u001b[22m\u001b[22m::String\u001b[1m)\u001b[22m\u001b[22m at \u001b[1m.\\loading.jl:576\u001b[22m\u001b[22m\n",
      " [4] \u001b[1minclude\u001b[22m\u001b[22m\u001b[1m(\u001b[22m\u001b[22m::String\u001b[1m)\u001b[22m\u001b[22m at \u001b[1m.\\sysimg.jl:14\u001b[22m\u001b[22m\n",
      " [5] \u001b[1manonymous\u001b[22m\u001b[22m at \u001b[1m.\\<missing>:2\u001b[22m\u001b[22m\n",
      "while loading C:\\Users\\mwatwood\\AppData\\Local\\JuliaPro-0.6.2.2\\pkgs-0.6.2.2\\v0.6\\FastGaussQuadrature\\src\\FastGaussQuadrature.jl, in expression starting on line 5\n"
     ]
    },
    {
     "ename": "LoadError",
     "evalue": "\u001b[91mFailed to precompile FastGaussQuadrature to C:\\Users\\mwatwood\\AppData\\Local\\JuliaPro-0.6.2.2\\pkgs-0.6.2.2\\lib\\v0.6\\FastGaussQuadrature.ji.\u001b[39m",
     "output_type": "error",
     "traceback": [
      "\u001b[91mFailed to precompile FastGaussQuadrature to C:\\Users\\mwatwood\\AppData\\Local\\JuliaPro-0.6.2.2\\pkgs-0.6.2.2\\lib\\v0.6\\FastGaussQuadrature.ji.\u001b[39m",
      "",
      "Stacktrace:",
      " [1] \u001b[1mcompilecache\u001b[22m\u001b[22m\u001b[1m(\u001b[22m\u001b[22m::String\u001b[1m)\u001b[22m\u001b[22m at \u001b[1m.\\loading.jl:710\u001b[22m\u001b[22m",
      " [2] \u001b[1m_require\u001b[22m\u001b[22m\u001b[1m(\u001b[22m\u001b[22m::Symbol\u001b[1m)\u001b[22m\u001b[22m at \u001b[1m.\\loading.jl:497\u001b[22m\u001b[22m",
      " [3] \u001b[1mrequire\u001b[22m\u001b[22m\u001b[1m(\u001b[22m\u001b[22m::Symbol\u001b[1m)\u001b[22m\u001b[22m at \u001b[1m.\\loading.jl:405\u001b[22m\u001b[22m",
      " [4] \u001b[1minclude_string\u001b[22m\u001b[22m\u001b[1m(\u001b[22m\u001b[22m::String, ::String\u001b[1m)\u001b[22m\u001b[22m at \u001b[1m.\\loading.jl:522\u001b[22m\u001b[22m"
     ]
    }
   ],
   "source": [
    "using Jacobi\n",
    "using FastGaussQuadrature\n",
    "\n",
    "f_0 = 1\n",
    "H = 1\n",
    "nodePoints=10000\n",
    "\n",
    "function b_n(n::Int64)\n",
    "    numerator = -n*(n+1)\n",
    "    denominator = (n+2)*(n+3)\n",
    "    return numerator/denominator\n",
    "end\n",
    "\n",
    "function M_ij(size::Int64)\n",
    "    fullMatrix = zeros(size,size)\n",
    "    for i=0:size-1\n",
    "        for j=0:size-1\n",
    "            if i==j\n",
    "                fullMatrix[i+1, j+1] = 2/(2*i+1) + (b_n(i)*b_n(i))*(2/(2*i+5))\n",
    "            elseif i==j+2\n",
    "                fullMatrix[i+1, j+1] = b_n(j)*(2/(2*j+5))\n",
    "            elseif i==j-2\n",
    "                fullMatrix[i+1, j+1] = b_n(i)*(2/(2*j+5))\n",
    "            end\n",
    "        end\n",
    "    end\n",
    "    return fullMatrix/2\n",
    "end\n",
    "\n",
    "function B_ij(size::Int64)\n",
    "    fullMatrix = zeros(size,size)\n",
    "    for i=0:size-1\n",
    "        for j=0:size-1\n",
    "            if i==j\n",
    "                fullMatrix[i+1,j+1]=2/(2*i+1)\n",
    "            elseif i==j-2\n",
    "                fullMatrix[i+1,j+1]=b_n(i)*2/(2*i+5)\n",
    "            end\n",
    "        end\n",
    "    end\n",
    "    return fullMatrix/2\n",
    "end\n",
    "\n",
    "function L_ij(N::Function, size::Int64)\n",
    "    fullArray = zeros(size,size)\n",
    "    values, weights = gausslegendre(nodePoints)\n",
    "    for i=0:size-1\n",
    "        for j=0:size-1\n",
    "            sumTotal = 0\n",
    "            for k=0:nodePoints-1\n",
    "                dp_i = 2.*(djacobi(values[k+1],i,0,0)+b_n(i)*djacobi(values[k+1],i+2,0,0))\n",
    "                dp_j = 2.*(djacobi(values[k+1],j,0,0)+b_n(j)*djacobi(values[k+1],j+2,0,0))\n",
    "                newPiece = weights[k+1]*(f_0*f_0/(H*H*N((values[k+1]+1.)/2.)*N((values[k+1]+1.)/2.)))*dp_i*dp_j\n",
    "                sumTotal = sumTotal + newPiece\n",
    "            end\n",
    "            fullArray[i+1,j+1] = .5*sumTotal\n",
    "        end\n",
    "    end\n",
    "    return fullArray\n",
    "end"
   ]
  },
  {
   "cell_type": "code",
   "execution_count": 43,
   "metadata": {},
   "outputs": [
    {
     "data": {
      "text/plain": [
       "dq_galerkin (generic function with 1 method)"
      ]
     },
     "execution_count": 43,
     "metadata": {},
     "output_type": "execute_result"
    }
   ],
   "source": [
    "function u_g_rhs(u_bar::Function, size::Int64)\n",
    "    fullArray = zeros(size)\n",
    "    values, weights = gausslegendre(nodePoints)\n",
    "    for i =0:size-1\n",
    "        sumTotal = 0\n",
    "        for k=0:nodePoints-1\n",
    "            p_n = jacobi(values[k+1], i,0,0) + b_n(i)*jacobi(values[k+1],i+2,0,0)\n",
    "            sumTotal = sumTotal + weights[k+1]*p_n*u_bar((values[k+1]+1.)/2.)\n",
    "        end\n",
    "        fullArray[i+1] = .5*sumTotal\n",
    "    end\n",
    "    return fullArray\n",
    "end\n",
    "\n",
    "function u_galerkin_coefficients(u_bar::Function, size::Int64, MMatrix)\n",
    "    u_lhs = MMatrix\n",
    "    u_rhs = u_g_rhs(u_bar, size)\n",
    "    return u_lhs \\ u_rhs\n",
    "end\n",
    "\n",
    "function u_galerkin(coefficients, size::Int64, value::Float64)\n",
    "    sumTotal = 0\n",
    "    for i=0:size-1\n",
    "        sumTotal = sumTotal + coefficients[i+1]*(jacobi(2.*value -1., i, 0,0)+b_n(i)*jacobi(2.*value -1.,i+2,0,0))\n",
    "    end\n",
    "    return sumTotal\n",
    "end\n",
    "\n",
    "function p_function(size::Int64, value::Float64)\n",
    "    fullArray = zeros(size)\n",
    "    for i=0:size-1\n",
    "        fullArray[i+1] = jacobi(2.*value-1.,i,0,0)+b_n(i)*jacobi(2.*value-1.,i+2,0,0)\n",
    "    end\n",
    "    return fullArray\n",
    "end\n",
    "\n",
    "function dy_vartheta_bar(N::Function, du_bar::Function, value::Float64)\n",
    "    return -(f_0*f_0/(H*H*N(value)*N(value)))*du_bar(value)\n",
    "end\n",
    "\n",
    "function dy_psi(u_bar::Function, size::Int64)\n",
    "    return -u_galerkin(u_bar, size)\n",
    "end\n",
    "\n",
    "function dq_galerkin_coefficients(coefficients, du_bar::Function, N::Function, size::Int64, BMatrix)\n",
    "    r_piece1 = L_ij(N, size)*coefficients\n",
    "    r_piece2 = dy_vartheta_bar(N,du_bar,1.0)*p_function(size,1.0)\n",
    "    r_piece3 = dy_vartheta_bar(N,du_bar,0.0)*p_function(size,0.0)\n",
    "    lhs = BMatrix\n",
    "    rhs = -r_piece1+r_piece2-r_piece3\n",
    "    return lhs \\ rhs\n",
    "end\n",
    "\n",
    "function dq_galerkin(coefficients, size::Int64, value::Float64)\n",
    "    sumTotal = 0\n",
    "    for i=0:size-1\n",
    "        sumTotal = sumTotal + coefficients[i+1]*jacobi(2.*value-1.,i,0,0)\n",
    "    end\n",
    "    return sumTotal\n",
    "end"
   ]
  },
  {
   "cell_type": "code",
   "execution_count": 7,
   "metadata": {},
   "outputs": [
    {
     "data": {
      "text/plain": [
       "Q_ij (generic function with 1 method)"
      ]
     },
     "execution_count": 7,
     "metadata": {},
     "output_type": "execute_result"
    }
   ],
   "source": [
    "function U_ij(size::Int64, u_galerkin_coefficients)\n",
    "    fullArray = zeros(size,size)\n",
    "    values, weights = gausslegendre(nodePoints)\n",
    "    for i=0:size-1\n",
    "        for j=0:size-1\n",
    "            sumTotal = 0\n",
    "            for k=0:nodePoints-1\n",
    "                p_psi = jacobi(values[k+1],i,0,0)+b_n(i)*jacobi(values[k+1],i+2,0,0)\n",
    "                p_q = jacobi(values[k+1],j,0,0)\n",
    "                u_galerk = u_galerkin(u_galerkin_coefficients, size, (values[k+1]+1.)/2.)\n",
    "                sumTotal = sumTotal + weights[k+1]*p_psi*p_q*u_galerk\n",
    "            end\n",
    "            fullArray[i+1, j+1] = .5*sumTotal\n",
    "        end\n",
    "    end\n",
    "    return fullArray\n",
    "end\n",
    "\n",
    "function Q_ij(size::Int64, dq_galerkin_coefficients)\n",
    "    fullArray = zeros(size,size)\n",
    "    values, weights = gausslegendre(nodePoints)\n",
    "    for i=0:size-1\n",
    "        for j=0:size-1\n",
    "            sumTotal = 0\n",
    "            for k=0:nodePoints-1\n",
    "                dq_galerk = dq_galerkin(dq_galerkin_coefficients, size, (values[k+1]+1.)/2.)\n",
    "                p_psi_i = jacobi(values[k+1],i,0,0)+b_n(i)*jacobi(values[k+1],i+2,0,0)\n",
    "                p_psi_j = jacobi(values[k+1],j,0,0)+b_n(j)*jacobi(values[k+1],j+2,0,0)\n",
    "                sumTotal = sumTotal + weights[k+1]*dq_galerk*p_psi_i*p_psi_j\n",
    "            end\n",
    "            fullArray[i+1, j+1] = .5*sumTotal\n",
    "        end\n",
    "    end\n",
    "    return fullArray\n",
    "end"
   ]
  },
  {
   "cell_type": "code",
   "execution_count": 8,
   "metadata": {},
   "outputs": [
    {
     "data": {
      "text/plain": [
       "dz (generic function with 1 method)"
      ]
     },
     "execution_count": 8,
     "metadata": {},
     "output_type": "execute_result"
    }
   ],
   "source": [
    "using Jacobi\n",
    "\n",
    "function N_constant(value::Float64)\n",
    "    return 1.\n",
    "end\n",
    "\n",
    "function z_linear(value::Float64)\n",
    "    return value\n",
    "end\n",
    "\n",
    "function dz(value::Float64)\n",
    "    return 1\n",
    "end \n",
    "\n",
    "#B = B_ij(5)\n",
    "#L = L_ij(N_constant, 5)\n",
    "#M = M_ij(5)\n",
    "\n",
    "#dpsi = dy_psi(z_linear, 5)\n",
    "#p_function(5,1.0)\n",
    "#dy_vartheta_bar(N_constant, dz,1.0)*p_function(5,1.0)\n",
    "\n",
    "#ugc = u_galerkin_coefficients(z_linear,5,M)\n",
    "#u_galerkin(ugc, 5, .5)\n",
    "#U_ij(5, ugc)\n",
    "\n",
    "#dqc = dq_galerkin_coefficients(z_linear, dz, N_constant, 5, B)\n",
    "#dq_galerkin(dqc, 5, .3)\n",
    "#Q_ij(5, dqc)"
   ]
  },
  {
   "cell_type": "code",
   "execution_count": 55,
   "metadata": {},
   "outputs": [
    {
     "data": {
      "text/plain": [
       "32-element Array{Float64,1}:\n",
       " -0.666716   \n",
       "  3.75732e-19\n",
       " -7.67394e-11\n",
       " -5.35075e-17\n",
       "  3.25232e-18\n",
       " -3.52825e-18\n",
       " -2.93991e-18\n",
       "  1.7964e-17 \n",
       " -4.99281e-19\n",
       " -6.25279e-18\n",
       "  1.26328e-17\n",
       "  9.09027e-18\n",
       " -3.9935e-18 \n",
       "  ⋮          \n",
       " -2.4933e-18 \n",
       " -3.498e-18  \n",
       " -6.11145e-18\n",
       " -4.47332e-18\n",
       "  2.47916e-18\n",
       " -1.23917e-18\n",
       "  7.94504e-19\n",
       " -2.20081e-18\n",
       " -2.49453e-18\n",
       " -7.66874e-18\n",
       " -3.81091e-20\n",
       "  6.43883e-18"
      ]
     },
     "execution_count": 55,
     "metadata": {},
     "output_type": "execute_result"
    }
   ],
   "source": [
    "sizeOfMatrix = 32\n",
    "beta_value = 0\n",
    "kx = 1\n",
    "ky = 0\n",
    "\n",
    "B = B_ij(sizeOfMatrix)\n",
    "L = L_ij(N_constant, sizeOfMatrix)\n",
    "M = M_ij(sizeOfMatrix)\n",
    "u_coefficients = u_galerkin_coefficients(z_linear,sizeOfMatrix,M)\n",
    "U = U_ij(sizeOfMatrix, u_coefficients)\n",
    "dq_coefficients = dq_galerkin_coefficients(u_coefficients, dz, N_constant, sizeOfMatrix, B)\n",
    "Q = Q_ij(sizeOfMatrix, dq_coefficients)\n",
    "\n",
    "lhs = (U-(Q+beta_value*M)*inv((kx*kx+ky*ky)*M+L)*B)\n",
    "(eig_values, eig_vectors) = eig(lhs, B)\n",
    "eig_values"
   ]
  },
  {
   "cell_type": "code",
   "execution_count": 56,
   "metadata": {},
   "outputs": [
    {
     "data": {
      "text/html": [
       "-2.9059361643957716e-10"
      ],
      "text/plain": [
       "-2.9059361643957716e-10"
      ]
     },
     "execution_count": 56,
     "metadata": {},
     "output_type": "execute_result"
    }
   ],
   "source": [
    "u_galerkin(u_coefficients,32,0.5)"
   ]
  },
  {
   "cell_type": "code",
   "execution_count": 57,
   "metadata": {},
   "outputs": [],
   "source": [
    "u_g_vals = zeros(101)\n",
    "for i=1:101\n",
    "    u_g_vals[i] = u_galerkin(u_coefficients,32,.01*(i-1))\n",
    "end"
   ]
  },
  {
   "cell_type": "code",
   "execution_count": 49,
   "metadata": {},
   "outputs": [
    {
     "data": {
      "text/plain": [
       "101-element Array{Float64,1}:\n",
       "  1.32903e-6 \n",
       " -3.03227e-8 \n",
       "  4.0863e-8  \n",
       "  3.72437e-8 \n",
       " -2.90163e-8 \n",
       "  3.42617e-8 \n",
       " -1.71146e-8 \n",
       "  9.69348e-9 \n",
       "  1.2366e-8  \n",
       " -1.92929e-8 \n",
       "  2.02376e-8 \n",
       "  8.49139e-10\n",
       " -1.4725e-8  \n",
       "  ⋮          \n",
       "  7.05071e-9 \n",
       " -3.5168e-9  \n",
       " -2.54238e-9 \n",
       "  6.81805e-9 \n",
       " -7.22415e-9 \n",
       "  5.82555e-9 \n",
       " -4.21416e-9 \n",
       "  4.59086e-9 \n",
       " -7.24763e-9 \n",
       "  8.83941e-9 \n",
       "  9.24482e-9 \n",
       " -1.43363e-8 "
      ]
     },
     "execution_count": 49,
     "metadata": {},
     "output_type": "execute_result"
    }
   ],
   "source": [
    "u_g_vals"
   ]
  },
  {
   "cell_type": "code",
   "execution_count": 104,
   "metadata": {},
   "outputs": [
    {
     "ename": "LoadError",
     "evalue": "\u001b[91mArgumentError: Module Plots not found in current path.\nRun `Pkg.add(\"Plots\")` to install the Plots package.\u001b[39m",
     "output_type": "error",
     "traceback": [
      "\u001b[91mArgumentError: Module Plots not found in current path.\nRun `Pkg.add(\"Plots\")` to install the Plots package.\u001b[39m",
      "",
      "Stacktrace:",
      " [1] \u001b[1m_require\u001b[22m\u001b[22m\u001b[1m(\u001b[22m\u001b[22m::Symbol\u001b[1m)\u001b[22m\u001b[22m at \u001b[1m.\\loading.jl:435\u001b[22m\u001b[22m",
      " [2] \u001b[1mrequire\u001b[22m\u001b[22m\u001b[1m(\u001b[22m\u001b[22m::Symbol\u001b[1m)\u001b[22m\u001b[22m at \u001b[1m.\\loading.jl:405\u001b[22m\u001b[22m",
      " [3] \u001b[1minclude_string\u001b[22m\u001b[22m\u001b[1m(\u001b[22m\u001b[22m::String, ::String\u001b[1m)\u001b[22m\u001b[22m at \u001b[1m.\\loading.jl:522\u001b[22m\u001b[22m"
     ]
    }
   ],
   "source": [
    "using Plots\n",
    "plot(u_g_vals)"
   ]
  },
  {
   "cell_type": "code",
   "execution_count": null,
   "metadata": {},
   "outputs": [],
   "source": []
  }
 ],
 "metadata": {
  "kernelspec": {
   "display_name": "Julia 0.6.2",
   "language": "julia",
   "name": "julia-0.6"
  },
  "language_info": {
   "file_extension": ".jl",
   "mimetype": "application/julia",
   "name": "julia",
   "version": "0.6.2"
  }
 },
 "nbformat": 4,
 "nbformat_minor": 2
}
