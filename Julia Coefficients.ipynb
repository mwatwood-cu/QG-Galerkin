{
 "cells": [
  {
   "cell_type": "code",
   "execution_count": null,
   "metadata": {},
   "outputs": [],
   "source": [
    "Pkg.add(\"Jacobi\")\n",
    "Pkg.add(\"FastGaussQuadrature\")\n",
    "Pkg.add(\"Plots\")\n",
    "Pkg.update()"
   ]
  },
  {
   "cell_type": "code",
   "execution_count": 2,
   "metadata": {},
   "outputs": [
    {
     "data": {
      "text/plain": [
       "L_ij (generic function with 1 method)"
      ]
     },
     "execution_count": 2,
     "metadata": {},
     "output_type": "execute_result"
    }
   ],
   "source": [
    "using FastGaussQuadrature\n",
    "using Jacobi\n",
    "\n",
    "f_0 = 1\n",
    "H = 1\n",
    "nodePoints=1000\n",
    "\n",
    "function b_n(n::Int64)\n",
    "    numerator = -n*(n+1)\n",
    "    denominator = (n+2)*(n+3)\n",
    "    return numerator/denominator\n",
    "end\n",
    "\n",
    "function M_ij(size::Int64)\n",
    "    fullMatrix = zeros(size,size)\n",
    "    for i=0:size-1\n",
    "        for j=0:size-1\n",
    "            if i==j\n",
    "                fullMatrix[i+1, j+1] = 2/(2*i+1) + (b_n(i)*b_n(i))*(2/(2*i+5))\n",
    "            elseif i==j+2\n",
    "                fullMatrix[i+1, j+1] = b_n(j)*(2/(2*j+5))\n",
    "            elseif i==j-2\n",
    "                fullMatrix[i+1, j+1] = b_n(i)*(2/(2*j+5))\n",
    "            end\n",
    "        end\n",
    "    end\n",
    "    return fullMatrix/2\n",
    "end\n",
    "\n",
    "function B_ij(size::Int64)\n",
    "    fullMatrix = zeros(size,size)\n",
    "    for i=0:size-1\n",
    "        for j=0:size-1\n",
    "            if i==j\n",
    "                fullMatrix[i+1,j+1]=2/(2*i+1)\n",
    "            elseif i==j-2\n",
    "                fullMatrix[i+1,j+1]=b_n(i)*2/(2*i+5)\n",
    "            end\n",
    "        end\n",
    "    end\n",
    "    return fullMatrix/2\n",
    "end\n",
    "\n",
    "function L_ij(size::Int64, N::Function)\n",
    "    fullArray = zeros(size,size)\n",
    "    values, weights = gausslegendre(nodePoints)\n",
    "    for i=0:size-1\n",
    "        for j=0:size-1\n",
    "            sumTotal = 0\n",
    "            for k=0:nodePoints-1\n",
    "                dp_i = 2.*(djacobi(values[k+1],i,0,0)+b_n(i)*djacobi(values[k+1],i+2,0,0))\n",
    "                dp_j = 2.*(djacobi(values[k+1],j,0,0)+b_n(j)*djacobi(values[k+1],j+2,0,0))\n",
    "                newPiece = weights[k+1]*(f_0*f_0/(H*H*N((values[k+1]+1.)/2.)*N((values[k+1]+1.)/2.)))*dp_i*dp_j\n",
    "                sumTotal = sumTotal + newPiece\n",
    "            end\n",
    "            fullArray[i+1,j+1] = .5*sumTotal\n",
    "        end\n",
    "    end\n",
    "    return fullArray\n",
    "end"
   ]
  },
  {
   "cell_type": "code",
   "execution_count": 3,
   "metadata": {},
   "outputs": [
    {
     "data": {
      "text/plain": [
       "u_galerkin (generic function with 1 method)"
      ]
     },
     "execution_count": 3,
     "metadata": {},
     "output_type": "execute_result"
    }
   ],
   "source": [
    "function dq_g_rhs(size::Int64, dq_bar::Function)\n",
    "    fullArray = zeros(size)\n",
    "    values, weights = gausslegendre(nodePoints)\n",
    "    for i =0:size-1\n",
    "        sumTotal = 0\n",
    "        for k=0:nodePoints-1\n",
    "            p_n = jacobi(values[k+1], i,0,0) + b_n(i)*jacobi(values[k+1],i+2,0,0)\n",
    "            sumTotal = sumTotal + weights[k+1]*p_n*dq_bar((values[k+1]+1.)/2.)\n",
    "        end\n",
    "        fullArray[i+1] = .5*sumTotal\n",
    "    end\n",
    "    return fullArray\n",
    "end\n",
    "\n",
    "function dq_galerkin_coefficients(size::Int64, dq_bar::Function)\n",
    "    u_rhs = dq_g_rhs(size, dq_bar)\n",
    "    return u_rhs\n",
    "end\n",
    "\n",
    "function dq_galerkin(size::Int64, coefficients, value::Float64)\n",
    "    sumTotal = 0\n",
    "    for i=0:size-1\n",
    "        sumTotal = sumTotal + coefficients[i+1]*jacobi(2.*value-1.,i,0,0)\n",
    "    end\n",
    "    return sumTotal\n",
    "end\n",
    "\n",
    "function p_psi_function(size::Int64, value::Float64)\n",
    "    fullArray = zeros(size)\n",
    "    for i=0:size-1\n",
    "        fullArray[i+1] = jacobi(2.*value-1.,i,0,0)+b_n(i)*jacobi(2.*value-1.,i+2,0,0)\n",
    "    end\n",
    "    return fullArray\n",
    "end\n",
    "\n",
    "function p_q_function(size::Int64, value::Float64)\n",
    "    fullArray = zeros(size)\n",
    "    for i=0:size-1\n",
    "        fullArray[i+1] = jacobi(2.*value-1.,i,0,0)\n",
    "    end\n",
    "    return fullArray\n",
    "end\n",
    "\n",
    "function dy_vartheta_bar(N::Function, du_bar::Function, value::Float64)\n",
    "    return -(f_0*f_0/(H*H*N(value)*N(value)))*du_bar(value)\n",
    "end\n",
    "\n",
    "function dy_psi(u_bar::Function, value::Float64)\n",
    "    return -u_bar(value)\n",
    "end\n",
    "\n",
    "function dy_psi_galerkin(size::Int64, u_bar_coefficients, value::Float64)\n",
    "    return -u_galerkin(size, u_bar_coefficients, value)\n",
    "end\n",
    "\n",
    "function u_galerkin_coefficients(size::Int64, dq_coefficients, first_u_coefficient, du_bar::Function, N::Function, LMatrix, BMatrix)\n",
    "    r_piece1 = BMatrix*dq_coefficients\n",
    "    r_piece2 = dy_vartheta_bar(N,du_bar,1.0)*p_psi_function(size,1.0)\n",
    "    r_piece3 = dy_vartheta_bar(N,du_bar,0.0)*p_psi_function(size,0.0)\n",
    "    rhs = r_piece1-r_piece2+r_piece3\n",
    "    lhs = LMatrix[2:size,2:size]\n",
    "    rhs = rhs[2:size]\n",
    "    coefficients = lhs \\ rhs\n",
    "    return prepend!(coefficients,[first_u_coefficient])\n",
    "end\n",
    "\n",
    "function u_galerkin(size::Int64, coefficients, value::Float64)\n",
    "    sumTotal = 0\n",
    "    for i=0:size-1\n",
    "        sumTotal = sumTotal + coefficients[i+1]*(jacobi(2.*value -1., i, 0,0)+b_n(i)*jacobi(2.*value -1.,i+2,0,0))\n",
    "    end\n",
    "    return sumTotal\n",
    "end"
   ]
  },
  {
   "cell_type": "code",
   "execution_count": 4,
   "metadata": {},
   "outputs": [
    {
     "data": {
      "text/plain": [
       "Q_ij (generic function with 1 method)"
      ]
     },
     "execution_count": 4,
     "metadata": {},
     "output_type": "execute_result"
    }
   ],
   "source": [
    "function U_ij(size::Int64, u_galerkin_coefficients)\n",
    "    fullArray = zeros(size,size)\n",
    "    values, weights = gausslegendre(nodePoints)\n",
    "    for i=0:size-1\n",
    "        for j=0:size-1\n",
    "            sumTotal = 0\n",
    "            for k=0:nodePoints-1\n",
    "                p_psi = jacobi(values[k+1],i,0,0)+b_n(i)*jacobi(values[k+1],i+2,0,0)\n",
    "                p_q = jacobi(values[k+1],j,0,0)\n",
    "                u_galerk = u_galerkin(size, u_galerkin_coefficients, (values[k+1]+1.)/2.)\n",
    "                sumTotal = sumTotal + weights[k+1]*p_psi*p_q*u_galerk\n",
    "            end\n",
    "            fullArray[i+1, j+1] = .5*sumTotal\n",
    "        end\n",
    "    end\n",
    "    return fullArray\n",
    "end\n",
    "\n",
    "function Q_ij(size::Int64, dq_galerkin_coefficients)\n",
    "    fullArray = zeros(size,size)\n",
    "    values, weights = gausslegendre(nodePoints)\n",
    "    for i=0:size-1\n",
    "        for j=0:size-1\n",
    "            sumTotal = 0\n",
    "            for k=0:nodePoints-1\n",
    "                dq_galerk = dq_galerkin(size, dq_galerkin_coefficients, (values[k+1]+1.)/2.)\n",
    "                p_psi_i = jacobi(values[k+1],i,0,0)+b_n(i)*jacobi(values[k+1],i+2,0,0)\n",
    "                p_psi_j = jacobi(values[k+1],j,0,0)+b_n(j)*jacobi(values[k+1],j+2,0,0)\n",
    "                sumTotal = sumTotal + weights[k+1]*dq_galerk*p_psi_i*p_psi_j\n",
    "            end\n",
    "            fullArray[i+1, j+1] = .5*sumTotal\n",
    "        end\n",
    "    end\n",
    "    return fullArray\n",
    "end"
   ]
  },
  {
   "cell_type": "code",
   "execution_count": 5,
   "metadata": {},
   "outputs": [
    {
     "data": {
      "text/html": [
       "0.9958333333333343"
      ],
      "text/plain": [
       "0.9958333333333343"
      ]
     },
     "execution_count": 5,
     "metadata": {},
     "output_type": "execute_result"
    }
   ],
   "source": [
    "function N_constant(value::Float64)\n",
    "    return 1.\n",
    "end\n",
    "\n",
    "function z_linear(value::Float64)\n",
    "    return value\n",
    "end\n",
    "\n",
    "function dz(value::Float64)\n",
    "    return 1\n",
    "end \n",
    "\n",
    "function dq(value::Float64)\n",
    "    return 0\n",
    "end\n",
    "first_coefficient = 0.5\n",
    "matrixSize = 15\n",
    "B = B_ij(matrixSize)\n",
    "L = L_ij(matrixSize, N_constant)\n",
    "M = M_ij(matrixSize)\n",
    "\n",
    "dqc = dq_galerkin_coefficients(matrixSize, dq)\n",
    "ugc = u_galerkin_coefficients(matrixSize, dqc, first_coefficient, dz, N_constant, L, B)\n",
    "\n",
    "u_galerkin(matrixSize, ugc, 1.)\n",
    "#U_ij(matixSize, ugc)\n",
    "\n",
    "#dq_galerkin(matrixSize, dqc, .3)\n",
    "#Q_ij(matrixSize, dqc)"
   ]
  },
  {
   "cell_type": "code",
   "execution_count": 6,
   "metadata": {},
   "outputs": [
    {
     "data": {
      "text/plain": [
       "growthRateEigenValues (generic function with 1 method)"
      ]
     },
     "execution_count": 6,
     "metadata": {},
     "output_type": "execute_result"
    }
   ],
   "source": [
    "function psi(size, kx, ky, M_matrix, L_matrix, value)\n",
    "    first_piece = inv((kx^2+ky^2)*M_matrix+L_matrix)\n",
    "    second_piece = p_psi_function(size, value)\n",
    "    return first_piece*second_piece\n",
    "end\n",
    "\n",
    "function growthRateEigenValues(sizeOfMatrix, beta_value, ky, kxValues, steps)\n",
    "    B = B_ij(sizeOfMatrix)\n",
    "    L = L_ij(sizeOfMatrix, N_constant)\n",
    "    M = M_ij(sizeOfMatrix)\n",
    "    dq_coefficients = dq_galerkin_coefficients(sizeOfMatrix, dq)\n",
    "    u_coefficients = u_galerkin_coefficients(sizeOfMatrix, dq_coefficients, first_coefficient, dz, N_constant, L, B)\n",
    "    U = U_ij(sizeOfMatrix, u_coefficients)\n",
    "    Q = Q_ij(sizeOfMatrix, dq_coefficients)\n",
    "    println(\"Matrices Computed\")\n",
    "    #Should have stable eigenvalues\n",
    "    (values, vectors) = eigs(U, B)\n",
    "    println(values)\n",
    "    \n",
    "    growthRates = zeros(steps)\n",
    "    for i=1:steps\n",
    "        #println()\n",
    "        kx = kxValues[i]\n",
    "        #println(\"k_x value $kx\")\n",
    "        dvt_plus = dy_vartheta_bar(N_constant, dz, 1.)\n",
    "        dvt_minus = dy_vartheta_bar(N_constant, dz, 0.)\n",
    "        ul = u_galerkin(sizeOfMatrix, u_coefficients, 1.)+dvt_plus*vecdot(p_psi_function(sizeOfMatrix, 1.),psi(sizeOfMatrix,kx,ky,M,L,1.))\n",
    "        ur = -dvt_plus*vecdot(p_psi_function(sizeOfMatrix, 1.),psi(sizeOfMatrix,kx,ky,M,L,0.))\n",
    "        ll = dvt_minus*vecdot(p_psi_function(sizeOfMatrix, 0.),psi(sizeOfMatrix,kx,ky,M,L,1.))\n",
    "        lr = u_galerkin(sizeOfMatrix, u_coefficients, 0.)-vecdot(p_psi_function(sizeOfMatrix, 0.),psi(sizeOfMatrix,kx,ky,M,L,0.))\n",
    "        lhs = [[ul ur]; [ll lr]]\n",
    "        #println(lhs)\n",
    "        eigenObject = eigfact(lhs)\n",
    "        max_im = maximum(imag(eigenObject[:values]))\n",
    "        growthRates[i] = max_im*kx\n",
    "    end\n",
    "    return growthRates\n",
    "end"
   ]
  },
  {
   "cell_type": "code",
   "execution_count": 11,
   "metadata": {},
   "outputs": [
    {
     "name": "stdout",
     "output_type": "stream",
     "text": [
      "Matrices Computed\n",
      "Complex{Float64}[-11.9044+7.968im, -11.9044-7.968im, -4.58712+13.4585im, -4.58712-13.4585im, -9.99005+9.85338im, -9.99005-9.85338im]\n",
      "[9.98325, 7.18251, 5.60205, 4.58558, 3.8758, 3.35119, 2.94687, 2.62503, 2.36213, 2.14275, 1.95635, 1.79549, 1.65471, 1.52997, 1.41816, 1.31684, 1.22408, 1.13828, 1.05814, 0.982514, 0.910403, 0.840883, 0.773062, 0.706019, 0.638727, 0.569924, 0.497873, 0.419809, 0.330336, 0.214163, 0.0, 0.0, 0.0, 0.0, 0.0, 0.0, 0.0, 0.0, 0.0, 0.0, 0.0, 0.0, 0.0, 0.0, 0.0, 0.0, 0.0, 0.0, 0.0, 0.0]"
     ]
    },
    {
     "ename": "LoadError",
     "evalue": "\u001b[91merror compiling _do_plot_show: error compiling _display: could not load library \"libGR.dll\"\nThe specified module could not be found.\r\n\u001b[39m",
     "output_type": "error",
     "traceback": [
      "\u001b[91merror compiling _do_plot_show: error compiling _display: could not load library \"libGR.dll\"\nThe specified module could not be found.\r\n\u001b[39m",
      "",
      "Stacktrace:",
      " [1] \u001b[1m_plot!\u001b[22m\u001b[22m\u001b[1m(\u001b[22m\u001b[22m::Plots.Plot{Plots.GRBackend}, ::Dict{Symbol,Any}, ::Tuple{StepRangeLen{Float64,Base.TwicePrecision{Float64},Base.TwicePrecision{Float64}},Array{Float64,1}}\u001b[1m)\u001b[22m\u001b[22m at \u001b[1mC:\\Users\\mwatwood\\AppData\\Local\\JuliaPro-0.6.2.2\\pkgs-0.6.2.2\\v0.6\\Plots\\src\\plot.jl:246\u001b[22m\u001b[22m",
      " [2] \u001b[1m#plot#212\u001b[22m\u001b[22m\u001b[1m(\u001b[22m\u001b[22m::Array{Any,1}, ::Function, ::StepRangeLen{Float64,Base.TwicePrecision{Float64},Base.TwicePrecision{Float64}}, ::Vararg{Any,N} where N\u001b[1m)\u001b[22m\u001b[22m at \u001b[1mC:\\Users\\mwatwood\\AppData\\Local\\JuliaPro-0.6.2.2\\pkgs-0.6.2.2\\v0.6\\Plots\\src\\plot.jl:58\u001b[22m\u001b[22m",
      " [3] \u001b[1mplot\u001b[22m\u001b[22m\u001b[1m(\u001b[22m\u001b[22m::StepRangeLen{Float64,Base.TwicePrecision{Float64},Base.TwicePrecision{Float64}}, ::Array{Float64,1}, ::Vararg{Array{Float64,1},N} where N\u001b[1m)\u001b[22m\u001b[22m at \u001b[1mC:\\Users\\mwatwood\\AppData\\Local\\JuliaPro-0.6.2.2\\pkgs-0.6.2.2\\v0.6\\Plots\\src\\plot.jl:52\u001b[22m\u001b[22m",
      " [4] \u001b[1minclude_string\u001b[22m\u001b[22m\u001b[1m(\u001b[22m\u001b[22m::String, ::String\u001b[1m)\u001b[22m\u001b[22m at \u001b[1m.\\loading.jl:522\u001b[22m\u001b[22m"
     ]
    }
   ],
   "source": [
    "using Plots\n",
    "\n",
    "nodePoints = 1000\n",
    "matrixSize = 15\n",
    "kxStart = 0.1\n",
    "kxFinish = 2\n",
    "steps = 50\n",
    "beta = 0\n",
    "ky = 0\n",
    "\n",
    "kxs = linspace(kxStart, kxFinish, steps)\n",
    "values = growthRateEigenValues(matrixSize, beta, ky, kxs, steps)\n",
    "print(values)\n",
    "plot(kxs, values)"
   ]
  },
  {
   "cell_type": "code",
   "execution_count": null,
   "metadata": {},
   "outputs": [],
   "source": []
  },
  {
   "cell_type": "code",
   "execution_count": null,
   "metadata": {},
   "outputs": [],
   "source": []
  }
 ],
 "metadata": {
  "kernelspec": {
   "display_name": "Julia 0.6.2",
   "language": "julia",
   "name": "julia-0.6"
  },
  "language_info": {
   "file_extension": ".jl",
   "mimetype": "application/julia",
   "name": "julia",
   "version": "0.6.2"
  }
 },
 "nbformat": 4,
 "nbformat_minor": 2
}
