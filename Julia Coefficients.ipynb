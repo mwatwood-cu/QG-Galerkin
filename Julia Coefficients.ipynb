{
 "cells": [
  {
   "cell_type": "code",
   "execution_count": null,
   "metadata": {},
   "outputs": [],
   "source": [
    "Pkg.update()\n",
    "Pkg.add(\"Jacobi\")\n",
    "Pkg.add(\"FastGaussQuadrature\")\n",
    "Pkg.add(\"PyPlot\")"
   ]
  },
  {
   "cell_type": "code",
   "execution_count": 1,
   "metadata": {},
   "outputs": [
    {
     "name": "stderr",
     "output_type": "stream",
     "text": [
      "\n",
      "WARNING: deprecated syntax \"local i, k, iter=0\" at C:\\Users\\mwatwood\\AppData\\Local\\JuliaPro-0.6.2.2\\pkgs-0.6.2.2\\v0.6\\Jacobi\\src\\jac_poly.jl:136.\n",
      "Use \"local i; local k; local iter=0\" instead.\n",
      "\n",
      "WARNING: deprecated syntax \"abstract QUADRATURE_TYPE\" at C:\\Users\\mwatwood\\AppData\\Local\\JuliaPro-0.6.2.2\\pkgs-0.6.2.2\\v0.6\\Jacobi\\src\\gauss_quad.jl:2.\n",
      "Use \"abstract type QUADRATURE_TYPE end\" instead.\n"
     ]
    },
    {
     "data": {
      "text/plain": [
       "L_ij (generic function with 1 method)"
      ]
     },
     "execution_count": 1,
     "metadata": {},
     "output_type": "execute_result"
    }
   ],
   "source": [
    "using FastGaussQuadrature\n",
    "using Jacobi\n",
    "\n",
    "f_0 = 1\n",
    "H = 1\n",
    "nodePoints=100\n",
    "\n",
    "function b_n(n::Int64)\n",
    "    numerator = -n*(n+1)\n",
    "    denominator = (n+2)*(n+3)\n",
    "    return numerator/denominator\n",
    "end\n",
    "\n",
    "function M_ij(size::Int64)\n",
    "    fullMatrix = zeros(size,size)\n",
    "    for i=0:size-1\n",
    "        for j=0:size-1\n",
    "            if i==j\n",
    "                fullMatrix[i+1, j+1] = 2/(2*i+1) + (b_n(i)*b_n(i))*(2/(2*i+5))\n",
    "            elseif i==j+2\n",
    "                fullMatrix[i+1, j+1] = b_n(j)*(2/(2*j+5))\n",
    "            elseif i==j-2\n",
    "                fullMatrix[i+1, j+1] = b_n(i)*(2/(2*j+5))\n",
    "            end\n",
    "        end\n",
    "    end\n",
    "    return fullMatrix/2\n",
    "end\n",
    "\n",
    "function B_ij(size::Int64)\n",
    "    fullMatrix = zeros(size,size)\n",
    "    for i=0:size-1\n",
    "        for j=0:size-1\n",
    "            if i==j\n",
    "                fullMatrix[i+1,j+1]=2/(2*i+1)\n",
    "            elseif i==j-2\n",
    "                fullMatrix[i+1,j+1]=b_n(i)*2/(2*i+5)\n",
    "            end\n",
    "        end\n",
    "    end\n",
    "    return fullMatrix/2\n",
    "end\n",
    "\n",
    "function L_ij(size::Int64, N::Function)\n",
    "    fullArray = zeros(size,size)\n",
    "    values, weights = gausslegendre(nodePoints)\n",
    "    for i=0:size-1\n",
    "        for j=0:size-1\n",
    "            sumTotal = 0\n",
    "            for k=0:nodePoints-1\n",
    "                dp_i = 2.*(djacobi(values[k+1],i,0,0)+b_n(i)*djacobi(values[k+1],i+2,0,0))\n",
    "                dp_j = 2.*(djacobi(values[k+1],j,0,0)+b_n(j)*djacobi(values[k+1],j+2,0,0))\n",
    "                newPiece = weights[k+1]*(f_0*f_0/(H*H*N((values[k+1]+1.)/2.)*N((values[k+1]+1.)/2.)))*dp_i*dp_j\n",
    "                sumTotal = sumTotal + newPiece\n",
    "            end\n",
    "            fullArray[i+1,j+1] = .5*sumTotal\n",
    "        end\n",
    "    end\n",
    "    return fullArray\n",
    "end"
   ]
  },
  {
   "cell_type": "code",
   "execution_count": 2,
   "metadata": {},
   "outputs": [
    {
     "data": {
      "text/plain": [
       "u_galerkin (generic function with 1 method)"
      ]
     },
     "execution_count": 2,
     "metadata": {},
     "output_type": "execute_result"
    }
   ],
   "source": [
    "function dq_galerkin_coefficients(size::Int64, dq_bar::Function)\n",
    "    fullArray = zeros(size)\n",
    "    values, weights = gausslegendre(nodePoints)\n",
    "    for i =0:size-1\n",
    "        sumTotal = 0\n",
    "        for k=0:nodePoints-1\n",
    "            p_n = jacobi(values[k+1], i,0,0)\n",
    "            sumTotal = sumTotal + weights[k+1]*p_n*dq_bar((values[k+1]+1.)/2.)\n",
    "        end\n",
    "        fullArray[i+1] = .5*sumTotal\n",
    "    end\n",
    "    return fullArray\n",
    "end\n",
    "\n",
    "function dq_galerkin(size::Int64, coefficients, value::Float64)\n",
    "    sumTotal = 0\n",
    "    for i=0:size-1\n",
    "        sumTotal = sumTotal + coefficients[i+1]*jacobi(2.*value-1.,i,0,0)\n",
    "    end\n",
    "    return sumTotal\n",
    "end\n",
    "\n",
    "function p_psi_function(size::Int64, value::Float64)\n",
    "    fullArray = zeros(size)\n",
    "    for i=0:size-1\n",
    "        fullArray[i+1] = jacobi(2.*value-1.,i,0,0)+b_n(i)*jacobi(2.*value-1.,i+2,0,0)\n",
    "    end\n",
    "    return fullArray\n",
    "end\n",
    "\n",
    "function p_q_function(size::Int64, value::Float64) # We shouldn't need this function\n",
    "    fullArray = zeros(size)\n",
    "    for i=0:size-1\n",
    "        fullArray[i+1] = jacobi(2.*value-1.,i,0,0)\n",
    "    end\n",
    "    return fullArray\n",
    "end\n",
    "\n",
    "function dy_vartheta_bar(N::Function, du_bar::Function, value::Float64)\n",
    "    return -(f_0*f_0/(H*H*N(value)*N(value)))*du_bar(value)\n",
    "end\n",
    "\n",
    "function dy_psi(u_bar::Function, value::Float64)\n",
    "    return -u_bar(value)\n",
    "end\n",
    "\n",
    "function dy_psi_galerkin(size::Int64, u_bar_coefficients, value::Float64)\n",
    "    return -u_galerkin(size, u_bar_coefficients, value)\n",
    "end\n",
    "\n",
    "function u_galerkin_coefficients(size::Int64, dq_coefficients, first_u_coefficient, du_bar::Function, N::Function, LMatrix, BMatrix)\n",
    "    r_piece1 = BMatrix*dq_coefficients\n",
    "    r_piece2 = dy_vartheta_bar(N,du_bar,1.0)*p_psi_function(size,1.0)\n",
    "    r_piece3 = dy_vartheta_bar(N,du_bar,0.0)*p_psi_function(size,0.0)\n",
    "    rhs = r_piece1-r_piece2+r_piece3\n",
    "    lhs = LMatrix[2:size,2:size]\n",
    "    rhs = rhs[2:size]\n",
    "    coefficients = lhs \\ rhs\n",
    "    return prepend!(coefficients,[first_u_coefficient])\n",
    "end\n",
    "\n",
    "function u_galerkin(size::Int64, coefficients, value::Float64)\n",
    "    sumTotal = 0\n",
    "    for i=0:size-1\n",
    "        sumTotal = sumTotal + coefficients[i+1]*(jacobi(2.*value -1., i, 0,0)+b_n(i)*jacobi(2.*value -1.,i+2,0,0))\n",
    "    end\n",
    "    return sumTotal\n",
    "end"
   ]
  },
  {
   "cell_type": "code",
   "execution_count": 3,
   "metadata": {},
   "outputs": [
    {
     "data": {
      "text/plain": [
       "Q_ij (generic function with 1 method)"
      ]
     },
     "execution_count": 3,
     "metadata": {},
     "output_type": "execute_result"
    }
   ],
   "source": [
    "function U_ij(size::Int64, u_galerkin_coefficients)\n",
    "    fullArray = zeros(size,size)\n",
    "    values, weights = gausslegendre(nodePoints)\n",
    "    for i=0:size-1\n",
    "        for j=0:size-1\n",
    "            sumTotal = 0\n",
    "            for k=0:nodePoints-1\n",
    "                p_psi = jacobi(values[k+1],i,0,0)+b_n(i)*jacobi(values[k+1],i+2,0,0)\n",
    "                p_q = jacobi(values[k+1],j,0,0)\n",
    "                u_galerk = u_galerkin(size, u_galerkin_coefficients, (values[k+1]+1.)/2.)\n",
    "                sumTotal = sumTotal + weights[k+1]*p_psi*p_q*u_galerk\n",
    "            end\n",
    "            fullArray[i+1, j+1] = .5*sumTotal\n",
    "        end\n",
    "    end\n",
    "    return fullArray\n",
    "end\n",
    "\n",
    "function Q_ij(size::Int64, dq_galerkin_coefficients)\n",
    "    fullArray = zeros(size,size)\n",
    "    values, weights = gausslegendre(nodePoints)\n",
    "    for i=0:size-1\n",
    "        for j=0:size-1\n",
    "            sumTotal = 0\n",
    "            for k=0:nodePoints-1\n",
    "                dq_galerk = dq_galerkin(size, dq_galerkin_coefficients, (values[k+1]+1.)/2.)\n",
    "                p_psi_i = jacobi(values[k+1],i,0,0)+b_n(i)*jacobi(values[k+1],i+2,0,0)\n",
    "                p_psi_j = jacobi(values[k+1],j,0,0)+b_n(j)*jacobi(values[k+1],j+2,0,0)\n",
    "                sumTotal = sumTotal + weights[k+1]*dq_galerk*p_psi_i*p_psi_j\n",
    "            end\n",
    "            fullArray[i+1, j+1] = .5*sumTotal\n",
    "        end\n",
    "    end\n",
    "    return fullArray\n",
    "end"
   ]
  },
  {
   "cell_type": "code",
   "execution_count": 4,
   "metadata": {},
   "outputs": [
    {
     "data": {
      "text/html": [
       "0.9989919354838707"
      ],
      "text/plain": [
       "0.9989919354838707"
      ]
     },
     "execution_count": 4,
     "metadata": {},
     "output_type": "execute_result"
    }
   ],
   "source": [
    "function N_constant(value::Float64)\n",
    "    return 1.\n",
    "end\n",
    "\n",
    "function z_linear(value::Float64)\n",
    "    return value\n",
    "end\n",
    "\n",
    "function dz(value::Float64)\n",
    "    return 1\n",
    "end \n",
    "\n",
    "function dq(value::Float64)\n",
    "    return 0\n",
    "end\n",
    "first_coefficient = 0.5\n",
    "matrixSize = 30\n",
    "B = B_ij(matrixSize)\n",
    "L = L_ij(matrixSize, N_constant)\n",
    "M = M_ij(matrixSize)\n",
    "\n",
    "dqc = dq_galerkin_coefficients(matrixSize, dq)\n",
    "ugc = u_galerkin_coefficients(matrixSize, dqc, first_coefficient, dz, N_constant, L, B)\n",
    "\n",
    "u_galerkin(matrixSize, ugc, 1.)\n",
    "#U_ij(matixSize, ugc)\n",
    "\n",
    "#dq_galerkin(matrixSize, dqc, .3)\n",
    "#Q_ij(matrixSize, dqc)"
   ]
  },
  {
   "cell_type": "code",
   "execution_count": 10,
   "metadata": {},
   "outputs": [
    {
     "data": {
      "text/plain": [
       "growthRateEigenValues (generic function with 1 method)"
      ]
     },
     "execution_count": 10,
     "metadata": {},
     "output_type": "execute_result"
    }
   ],
   "source": [
    "function psi(size, kx, ky, M_matrix, L_matrix, value)\n",
    "    first_piece = (kx^2+ky^2)*M_matrix+L_matrix\n",
    "    second_piece = p_psi_function(size, value)\n",
    "    return first_piece \\ second_piece\n",
    "end\n",
    "\n",
    "function growthRateEigenValues(sizeOfMatrix, beta_value, ky, kxValues, steps)\n",
    "    B = B_ij(sizeOfMatrix)\n",
    "    L = L_ij(sizeOfMatrix, N_constant)\n",
    "    M = M_ij(sizeOfMatrix)\n",
    "    dq_coefficients = dq_galerkin_coefficients(sizeOfMatrix, dq)\n",
    "    u_coefficients = u_galerkin_coefficients(sizeOfMatrix, dq_coefficients, first_coefficient, dz, N_constant, L, B)\n",
    "    U = U_ij(sizeOfMatrix, u_coefficients)\n",
    "    Q = Q_ij(sizeOfMatrix, dq_coefficients)\n",
    "    println(\"Matrices Computed\")\n",
    "    #Should have stable eigenvalues\n",
    "    (values, vectors) = eig(U, B)\n",
    "    println(values)\n",
    "    \n",
    "    growthRates = zeros(steps)\n",
    "    waveSpeeds = zeros(steps)\n",
    "    minWaveSpeeds = zeros(steps)\n",
    "    eigenvectors = []\n",
    "    for i=1:steps\n",
    "        #println()\n",
    "        kx = kxValues[i]\n",
    "        #println(\"k_x value $kx\")\n",
    "        dvt_plus = dy_vartheta_bar(N_constant, dz, 1.)\n",
    "        dvt_minus = dy_vartheta_bar(N_constant, dz, 0.)\n",
    "        ul = u_galerkin(sizeOfMatrix, u_coefficients, 1.)+dvt_plus*vecdot(p_psi_function(sizeOfMatrix, 1.),psi(sizeOfMatrix,kx,ky,M,L,1.))\n",
    "        ur = -dvt_plus*vecdot(p_psi_function(sizeOfMatrix, 1.),psi(sizeOfMatrix,kx,ky,M,L,0.))\n",
    "        ll = dvt_minus*vecdot(p_psi_function(sizeOfMatrix, 0.),psi(sizeOfMatrix,kx,ky,M,L,1.))\n",
    "        lr = u_galerkin(sizeOfMatrix, u_coefficients, 0.)-dvt_minus*vecdot(p_psi_function(sizeOfMatrix, 0.),psi(sizeOfMatrix,kx,ky,M,L,0.))\n",
    "        lhs = [[ul ur]; [ll lr]]\n",
    "        #println(lhs)\n",
    "        eigenObject = eigfact(lhs)\n",
    "        max_im = maximum(imag(eigenObject[:values]))\n",
    "        append!(eigenvectors, eigenObject[:vectors])\n",
    "        waveSpeeds[i] = maximum(real(eigenObject[:values]))\n",
    "        minWaveSpeeds[i] = minimum(real(eigenObject[:values]))\n",
    "        growthRates[i] = max_im*kx\n",
    "    end\n",
    "    return growthRates, eigenvectors, waveSpeeds, minWaveSpeeds\n",
    "end"
   ]
  },
  {
   "cell_type": "code",
   "execution_count": 25,
   "metadata": {},
   "outputs": [
    {
     "name": "stdout",
     "output_type": "stream",
     "text": [
      "Matrices Computed\n",
      "[0.977381, 0.899091, 0.788534, 0.650365, "
     ]
    },
    {
     "data": {
      "image/png": "[encoded data removed]",
      "text/plain": [
       "PyPlot.Figure(PyObject <matplotlib.figure.Figure object at 0x00000000314B6BE0>)"
      ]
     },
     "metadata": {},
     "output_type": "display_data"
    },
    {
     "name": "stdout",
     "output_type": "stream",
     "text": [
      "0.0226187, 0.100909, 0.5, 0.211466, 0.349635]\n",
      "2.5"
     ]
    },
    {
     "data": {
      "text/plain": [
       "(0, 1)"
      ]
     },
     "execution_count": 25,
     "metadata": {},
     "output_type": "execute_result"
    }
   ],
   "source": [
    "using PyPlot\n",
    "ioff()\n",
    "nodePoints = 100 # nodePoints already defined above\n",
    "matrixSize = 9\n",
    "kxStart = 0.1\n",
    "kxFinish = 10.\n",
    "steps = 100\n",
    "beta = 0\n",
    "ky = 0\n",
    "\n",
    "kxs = linspace(kxStart, kxFinish, steps)\n",
    "growthRates, vectors, w_speeds, w_minSpeeds = growthRateEigenValues(matrixSize, beta, ky, kxs, steps)\n",
    "\n",
    "\n",
    "\n",
    "print(kxs[25])\n",
    "fig, axes = subplots(2,2)\n",
    "ax = axes[1,1]\n",
    "ax[:plot](kxs, growthRates)\n",
    "ax = axes[2,1]\n",
    "ax[:plot](kxs, w_speeds, \"b-\")\n",
    "ax[:plot](kxs, w_minSpeeds, \"b-\")\n",
    "ax[:set_ylim]([0,1])"
   ]
  },
  {
   "cell_type": "code",
   "execution_count": null,
   "metadata": {},
   "outputs": [],
   "source": []
  }
 ],
 "metadata": {
  "kernelspec": {
   "display_name": "Julia 0.6.2",
   "language": "julia",
   "name": "julia-0.6"
  },
  "language_info": {
   "file_extension": ".jl",
   "mimetype": "application/julia",
   "name": "julia",
   "version": "0.6.2"
  }
 },
 "nbformat": 4,
 "nbformat_minor": 2
}
