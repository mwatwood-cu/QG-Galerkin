{
 "cells": [
  {
   "cell_type": "code",
   "execution_count": null,
   "metadata": {},
   "outputs": [],
   "source": [
    "Pkg.add(\"Jacobi\")\n",
    "Pkg.add(\"GaussQuadrature\")"
   ]
  },
  {
   "cell_type": "code",
   "execution_count": null,
   "metadata": {},
   "outputs": [],
   "source": []
  },
  {
   "cell_type": "code",
   "execution_count": 34,
   "metadata": {},
   "outputs": [
    {
     "data": {
      "text/plain": [
       "L_in (generic function with 1 method)"
      ]
     },
     "execution_count": 34,
     "metadata": {},
     "output_type": "execute_result"
    }
   ],
   "source": [
    "using Jacobi\n",
    "\n",
    "function b_n(n::Int64)\n",
    "    numerator = -n*(n+1)\n",
    "    denominator = (n+2)*(n+3)\n",
    "    return numerator/denominator\n",
    "end\n",
    "\n",
    "function M_in(size::Int64)\n",
    "    fullMatrix = zeros(size,size)\n",
    "    for i=0:size-1\n",
    "        for j=0:size-1\n",
    "            if i==j\n",
    "                fullMatrix[i+1, j+1] = 2/(2*i+1) + (b_n(i)*b_n(i))*(2/(2*i+5))\n",
    "            elseif i==j+2\n",
    "                fullMatrix[i+1, j+1] = b_n(j)*(2/(2*j+5))\n",
    "            elseif i==j-2\n",
    "                fullMatrix[i+1, j+1] = b_n(i)*(2/(2*j+5))\n",
    "            end\n",
    "        end\n",
    "    end\n",
    "    return fullMatrix\n",
    "end\n",
    "\n",
    "function B_in(size::Int64)\n",
    "    fullMatrix = zeros(size,size)\n",
    "    for i=0:size-1\n",
    "        for j=0:size-1\n",
    "            if i==j\n",
    "                fullMatrix[i+1,j+1]=2/(2*i+1)\n",
    "            elseif i==j+2\n",
    "                fullMatrix[i+1,j+1]=b_n(j)*2/(2*j+5)\n",
    "            end\n",
    "        end\n",
    "    end\n",
    "    return fullMatrix\n",
    "end\n",
    "\n",
    "function L_in(N::Function, size::Int64)\n",
    "    fullArray = zeros(size,size)\n",
    "    values = zgj(size, 0, 0)\n",
    "    weights = wgj(values, 0, 0)\n",
    "    for i=0:size-1\n",
    "        for j=0:size-1\n",
    "            sumTotal = 0\n",
    "            for k=0:size-1\n",
    "                dp_i = djacobi(values[k+1],i,0,0)+b_n(i)*djacobi(values[k+1],i+2,0,0)\n",
    "                dp_j = djacobi(values[k+1],j,0,0)+b_n(j)*djacobi(values[k+1],j+2,0,0)\n",
    "                newPiece = weights[k+1]*N(values[k+1])*dp_i*dp_j\n",
    "                sumTotal = sumTotal + newPiece\n",
    "            end\n",
    "            fullArray[i+1,j+1] = sumTotal\n",
    "        end\n",
    "    end\n",
    "    return fullArray\n",
    "end\n"
   ]
  },
  {
   "cell_type": "code",
   "execution_count": 35,
   "metadata": {},
   "outputs": [
    {
     "data": {
      "text/plain": [
       "5×5 Array{Float64,2}:\n",
       " 0.0   0.0           0.0          0.0          0.0        \n",
       " 0.0   1.66667      -4.16334e-17  3.88578e-16  0.0        \n",
       " 0.0  -4.16334e-17   4.2          5.55112e-17  2.66454e-15\n",
       " 0.0   3.88578e-16   5.55112e-17  7.2          0.0        \n",
       " 0.0   0.0           2.66454e-15  0.0          5.48753    "
      ]
     },
     "execution_count": 35,
     "metadata": {},
     "output_type": "execute_result"
    }
   ],
   "source": [
    "using Jacobi\n",
    "\n",
    "function N_constant(value::Float64)\n",
    "    return 1\n",
    "end\n",
    "L_in(N_constant, 5)\n",
    "#zgj(5,0,0)"
   ]
  }
 ],
 "metadata": {
  "kernelspec": {
   "display_name": "Julia 0.6.2",
   "language": "julia",
   "name": "julia-0.6"
  },
  "language_info": {
   "file_extension": ".jl",
   "mimetype": "application/julia",
   "name": "julia",
   "version": "0.6.2"
  }
 },
 "nbformat": 4,
 "nbformat_minor": 2
}
