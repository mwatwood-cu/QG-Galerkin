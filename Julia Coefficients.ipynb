{
 "cells": [
  {
   "cell_type": "code",
   "execution_count": null,
   "metadata": {},
   "outputs": [],
   "source": [
    "Pkg.update()\n",
    "Pkg.add(\"Jacobi\")\n",
    "Pkg.add(\"FastGaussQuadrature\")\n",
    "Pkg.add(\"PyPlot\")"
   ]
  },
  {
   "cell_type": "code",
   "execution_count": 3,
   "metadata": {},
   "outputs": [
    {
     "name": "stderr",
     "output_type": "stream",
     "text": [
      "\n",
      "WARNING: deprecated syntax \"local i, k, iter=0\" at C:\\Users\\mwatwood\\AppData\\Local\\JuliaPro-0.6.2.2\\pkgs-0.6.2.2\\v0.6\\Jacobi\\src\\jac_poly.jl:136.\n",
      "Use \"local i; local k; local iter=0\" instead.\n",
      "\n",
      "WARNING: deprecated syntax \"abstract QUADRATURE_TYPE\" at C:\\Users\\mwatwood\\AppData\\Local\\JuliaPro-0.6.2.2\\pkgs-0.6.2.2\\v0.6\\Jacobi\\src\\gauss_quad.jl:2.\n",
      "Use \"abstract type QUADRATURE_TYPE end\" instead.\n"
     ]
    }
   ],
   "source": [
    "using FastGaussQuadrature\n",
    "using Jacobi\n",
    "\n",
    "nodePoints=100\n",
    "\n",
    "function b_n(n::Int64)\n",
    "    numerator = -n*(n+1)\n",
    "    denominator = (n+2)*(n+3)\n",
    "    return numerator/denominator\n",
    "end\n",
    "\n",
    "function M_ij(size::Int64)\n",
    "    fullMatrix = zeros(size,size)\n",
    "    for i=0:size-1\n",
    "        for j=0:size-1\n",
    "            if i==j\n",
    "                fullMatrix[i+1, j+1] = 2/(2*i+1) + (b_n(i)*b_n(i))*(2/(2*i+5))\n",
    "            elseif i==j+2\n",
    "                fullMatrix[i+1, j+1] = b_n(j)*(2/(2*j+5))\n",
    "            elseif i==j-2\n",
    "                fullMatrix[i+1, j+1] = b_n(i)*(2/(2*j+1))\n",
    "            end\n",
    "        end\n",
    "    end\n",
    "    return fullMatrix/2\n",
    "end\n",
    "\n",
    "function B_ij(size::Int64)\n",
    "    fullMatrix = zeros(size,size)\n",
    "    for i=0:size-1\n",
    "        for j=0:size-1\n",
    "            if i==j\n",
    "                fullMatrix[i+1,j+1]=2/(2*i+1)\n",
    "            elseif i==j-2\n",
    "                fullMatrix[i+1,j+1]=b_n(i)*2/(2*i+5)\n",
    "            end\n",
    "        end\n",
    "    end\n",
    "    return fullMatrix/2\n",
    "end\n",
    "\n",
    "function L_ij(size::Int64, S::Function)\n",
    "    fullArray = zeros(size,size)\n",
    "    values, weights = gausslegendre(nodePoints)\n",
    "    for i=0:size-1\n",
    "        for j=0:size-1\n",
    "            sumTotal = 0\n",
    "            for k=0:nodePoints-1\n",
    "                dp_i = 2.*(djacobi(values[k+1],i,0,0)+b_n(i)*djacobi(values[k+1],i+2,0,0))\n",
    "                dp_j = 2.*(djacobi(values[k+1],j,0,0)+b_n(j)*djacobi(values[k+1],j+2,0,0))\n",
    "                newPiece = weights[k+1]*S((values[k+1]+1.)/2.)*dp_i*dp_j\n",
    "                sumTotal = sumTotal + newPiece\n",
    "            end\n",
    "            fullArray[i+1,j+1] = .5*sumTotal\n",
    "        end\n",
    "    end\n",
    "    return fullArray\n",
    "end\n",
    "\n",
    "function S_constant(value::Float64)\n",
    "    return 1.\n",
    "end\n",
    "\n",
    "function galerkin_p_psi_print(size::Int64, coefficients, value)\n",
    "    sumTotal = 0\n",
    "    for i=size-1:-1:0\n",
    "        p = jacobi(2.*value -1., i, 0,0)+b_n(i)*jacobi(2.*value -1.,i+2,0,0)\n",
    "        sumTotal = sumTotal + coefficients[i+1]*p\n",
    "    end\n",
    "    return sumTotal\n",
    "end\n",
    ";"
   ]
  },
  {
   "cell_type": "markdown",
   "metadata": {},
   "source": [
    "# Linear Stability"
   ]
  },
  {
   "cell_type": "code",
   "execution_count": 4,
   "metadata": {},
   "outputs": [
    {
     "data": {
      "text/plain": [
       "u_galerkin (generic function with 1 method)"
      ]
     },
     "execution_count": 4,
     "metadata": {},
     "output_type": "execute_result"
    }
   ],
   "source": [
    "function dq_galerkin_coefficients(size::Int64, dq_bar::Function)\n",
    "    fullArray = zeros(size)\n",
    "    values, weights = gausslegendre(nodePoints)\n",
    "    for i =0:size-1\n",
    "        sumTotal = 0\n",
    "        for k=0:nodePoints-1\n",
    "            p_n = jacobi(values[k+1], i,0,0)\n",
    "            sumTotal = sumTotal + weights[k+1]*p_n*dq_bar((values[k+1]+1.)/2.)\n",
    "        end\n",
    "        fullArray[i+1] = .5*sumTotal\n",
    "    end\n",
    "    return fullArray\n",
    "end\n",
    "\n",
    "function dq_galerkin(size::Int64, coefficients, value::Float64)\n",
    "    sumTotal = 0\n",
    "    for i=0:size-1\n",
    "        sumTotal = sumTotal + coefficients[i+1]*jacobi(2.*value-1.,i,0,0)\n",
    "    end\n",
    "    return sumTotal\n",
    "end\n",
    "\n",
    "function p_psi_function(size::Int64, value::Float64)\n",
    "    fullArray = zeros(size)\n",
    "    for i=0:size-1\n",
    "        fullArray[i+1] = jacobi(2.*value-1.,i,0,0)+b_n(i)*jacobi(2.*value-1.,i+2,0,0)\n",
    "    end\n",
    "    return fullArray\n",
    "end\n",
    "\n",
    "function p_q_function(size::Int64, value::Float64) # We shouldn't need this function\n",
    "    fullArray = zeros(size)\n",
    "    for i=0:size-1\n",
    "        fullArray[i+1] = jacobi(2.*value-1.,i,0,0)\n",
    "    end\n",
    "    return fullArray\n",
    "end\n",
    "\n",
    "function dy_vartheta_bar(S::Function, du_bar::Function, value::Float64)\n",
    "    return -S(value)*du_bar(value)\n",
    "end\n",
    "\n",
    "function dy_psi(u_bar::Function, value::Float64)\n",
    "    return -u_bar(value)\n",
    "end\n",
    "\n",
    "function dy_psi_galerkin(size::Int64, u_bar_coefficients, value::Float64)\n",
    "    return -u_galerkin(size, u_bar_coefficients, value)\n",
    "end\n",
    "\n",
    "function u_galerkin_coefficients(size::Int64, dq_coefficients, dvt_plus, dvt_minus, first_u_coefficient, du_bar::Function, S::Function, LMatrix, BMatrix)\n",
    "    r_piece1 = BMatrix*dq_coefficients\n",
    "    r_piece2 = dvt_plus*p_psi_function(size,1.0)\n",
    "    r_piece3 = dvt_minus*p_psi_function(size,0.0)\n",
    "    rhs = r_piece1-r_piece2+r_piece3\n",
    "    lhs = LMatrix[2:size,2:size]\n",
    "    rhs = rhs[2:size]\n",
    "    coefficients = lhs \\ rhs\n",
    "    return prepend!(coefficients,[first_u_coefficient])\n",
    "end\n",
    "\n",
    "function u_galerkin(size::Int64, coefficients, value)\n",
    "    sumTotal = 0\n",
    "    for i=0:size-1\n",
    "        sumTotal = sumTotal + coefficients[i+1]*(jacobi(2.*value -1., i, 0,0)+b_n(i)*jacobi(2.*value -1.,i+2,0,0))\n",
    "    end\n",
    "    return sumTotal\n",
    "end"
   ]
  },
  {
   "cell_type": "code",
   "execution_count": 5,
   "metadata": {},
   "outputs": [
    {
     "data": {
      "text/plain": [
       "Q_ij (generic function with 1 method)"
      ]
     },
     "execution_count": 5,
     "metadata": {},
     "output_type": "execute_result"
    }
   ],
   "source": [
    "function U_ij(size::Int64, u_galerkin_coefficients)\n",
    "    fullArray = zeros(size,size)\n",
    "    values, weights = gausslegendre(nodePoints)\n",
    "    for i=0:size-1\n",
    "        for j=0:size-1\n",
    "            sumTotal = 0\n",
    "            for k=0:nodePoints-1\n",
    "                p_psi = jacobi(values[k+1],i,0,0)+b_n(i)*jacobi(values[k+1],i+2,0,0)\n",
    "                p_q = jacobi(values[k+1],j,0,0)\n",
    "                u_galerk = u_galerkin(size, u_galerkin_coefficients, (values[k+1]+1.)/2.)\n",
    "                sumTotal = sumTotal + weights[k+1]*p_psi*p_q*u_galerk\n",
    "            end\n",
    "            fullArray[i+1, j+1] = .5*sumTotal\n",
    "        end\n",
    "    end\n",
    "    return fullArray\n",
    "end\n",
    "\n",
    "function Q_ij(size::Int64, dq_galerkin_coefficients)\n",
    "    fullArray = zeros(size,size)\n",
    "    values, weights = gausslegendre(nodePoints)\n",
    "    for i=0:size-1\n",
    "        for j=0:size-1\n",
    "            sumTotal = 0\n",
    "            for k=0:nodePoints-1\n",
    "                dq_galerk = dq_galerkin(size, dq_galerkin_coefficients, (values[k+1]+1.)/2.)\n",
    "                p_psi_i = jacobi(values[k+1],i,0,0)+b_n(i)*jacobi(values[k+1],i+2,0,0)\n",
    "                p_psi_j = jacobi(values[k+1],j,0,0)+b_n(j)*jacobi(values[k+1],j+2,0,0)\n",
    "                sumTotal = sumTotal + weights[k+1]*dq_galerk*p_psi_i*p_psi_j\n",
    "            end\n",
    "            fullArray[i+1, j+1] = .5*sumTotal\n",
    "        end\n",
    "    end\n",
    "    return fullArray\n",
    "end"
   ]
  },
  {
   "cell_type": "code",
   "execution_count": 13,
   "metadata": {},
   "outputs": [
    {
     "data": {
      "text/plain": [
       "createFourStabilityPlots (generic function with 1 method)"
      ]
     },
     "execution_count": 13,
     "metadata": {},
     "output_type": "execute_result"
    }
   ],
   "source": [
    "function psi(size, kx, ky, M_matrix, L_matrix, value)\n",
    "    first_piece = (kx^2+ky^2)*M_matrix+L_matrix\n",
    "    second_piece = p_psi_function(size, value)\n",
    "    return first_piece \\ second_piece\n",
    "end\n",
    "\n",
    "function computeMatricesForStabilityAnalysis(sizeOfMatrix, S_function, dq_function, du_function,dvt_plus, dvt_minus, first_coefficient)\n",
    "    B = B_ij(sizeOfMatrix)\n",
    "    L = L_ij(sizeOfMatrix, S_function)\n",
    "    M = M_ij(sizeOfMatrix)\n",
    "    dq_coefficients = dq_galerkin_coefficients(sizeOfMatrix, dq_function)\n",
    "    u_coefficients = u_galerkin_coefficients(sizeOfMatrix, dq_coefficients, dvt_plus, dvt_minus, first_coefficient, du_function, S_function, L, B)\n",
    "\n",
    "    U = U_ij(sizeOfMatrix, u_coefficients)\n",
    "    Q = Q_ij(sizeOfMatrix, dq_coefficients)\n",
    "    println(\"Matrices Computed\")\n",
    "    return (B,L,M,U,Q, u_coefficients, dq_coefficients)\n",
    "end\n",
    "\n",
    "function getSimplifiedStabilityEigenObjectsOfKx(sizeOfMatrix, beta_value, ky, kxValues, S_function, dq_function, du_function, dvt_plus, dvt_minus, first_coefficient)\n",
    "    (B,L,M,U,Q,u_coefficients,dq_coefficients) = computeMatricesForStabilityAnalysis(sizeOfMatrix,S_function, dq_function, du_function, dvt_plus, dvt_minus, first_coefficient)\n",
    "    #Should have stable eigenvalues\n",
    "    (values, vectors) = eig(U, B)\n",
    "    if(minimum(imag(values))>0)\n",
    "        println(\"Stable piece is unstable...\")\n",
    "    end\n",
    "    \n",
    "    eigenObjects = []\n",
    "    for i=1:length(kxValues)\n",
    "        kx = kxValues[i]\n",
    "        ul = u_galerkin(sizeOfMatrix, u_coefficients, 1.)+dvt_plus*vecdot(p_psi_function(sizeOfMatrix, 1.),psi(sizeOfMatrix,kx,ky,M,L,1.))\n",
    "        ur = -dvt_plus*vecdot(p_psi_function(sizeOfMatrix, 1.),psi(sizeOfMatrix,kx,ky,M,L,0.))\n",
    "        ll = dvt_minus*vecdot(p_psi_function(sizeOfMatrix, 0.),psi(sizeOfMatrix,kx,ky,M,L,1.))\n",
    "        lr = u_galerkin(sizeOfMatrix, u_coefficients, 0.)-dvt_minus*vecdot(p_psi_function(sizeOfMatrix, 0.),psi(sizeOfMatrix,kx,ky,M,L,0.))\n",
    "        lhs = [[ul ur]; [ll lr]]\n",
    "        eigenResult = eigfact(lhs)\n",
    "        append!(eigenObjects, [eigenResult])\n",
    "    end\n",
    "    println(\"Done computing eigenvalues and eigenvectors for all kx's\")\n",
    "    return eigenObjects\n",
    "end\n",
    "\n",
    "function getCompleteStabilityEigenObjectsOfKx(sizeOfMatrix, beta_value, ky, kxValues, S_function, dq_function, du_function, dvt_plus, dvt_minus, first_coefficient)\n",
    "    (B,L,M,U,Q,u_coefficients,dq_coefficients) = computeMatricesForStabilityAnalysis(sizeOfMatrix,S_function, dq_function, du_function, dvt_plus, dvt_minus, first_coefficient)\n",
    "    eigenObjects = []\n",
    "\n",
    "    for i=1:length(kxValues)\n",
    "        kx = kxValues[i]\n",
    "        psi_plus = psi(sizeOfMatrix,kx,ky,M,L,1.)\n",
    "        psi_minus = psi(sizeOfMatrix,kx,ky,M,L,0.)\n",
    "        p_psi_plus = p_psi_function(sizeOfMatrix, 1.)\n",
    "        p_psi_minus = p_psi_function(sizeOfMatrix, 0.)\n",
    "        centerRowMatrix = ((kx^2+ky^2)*M+L)\\B\n",
    "        \n",
    "        ul = u_galerkin(sizeOfMatrix, u_coefficients, 1.)+dvt_plus*vecdot(p_psi_plus,psi_plus)\n",
    "        uc = -(dvt_plus)*(p_psi_plus'*centerRowMatrix)\n",
    "        ur = -dvt_plus*vecdot(p_psi_plus, psi_minus)\n",
    "        cl = (Q+beta_value*M)*psi_plus\n",
    "        cc = U-(Q+beta_value*M)*centerRowMatrix\n",
    "        cr = -(Q+beta_value*M)*psi_minus\n",
    "        ll = dvt_minus*vecdot(p_psi_minus,psi_plus)\n",
    "        lc = -(dvt_minus)*(p_psi_minus'*centerRowMatrix)\n",
    "        lr = u_galerkin(sizeOfMatrix, u_coefficients, 0.)-dvt_minus*vecdot(p_psi_minus,psi_minus)\n",
    "        lhs = [[ul uc ur];[cl cc cr];[ll lc lr]]\n",
    "        lhs_small = [[ul ur]; [ll lr]]\n",
    "        \n",
    "        rhs = [[1 zeros(1,sizeOfMatrix) 0];[zeros(sizeOfMatrix,1) B zeros(sizeOfMatrix,1)]; [0 zeros(1,sizeOfMatrix) 1]]\n",
    "        eigenResult = eigfact(lhs, rhs)\n",
    "        append!(eigenObjects, [eigenResult])\n",
    "    end\n",
    "    println(\"Done computing eigenvalues and eigenvectors for all kx's\")\n",
    "    return eigenObjects\n",
    "end\n",
    "    \n",
    "function getStabilityValues(eigenObjectsArray, kxValues)\n",
    "    steps = length(kxValues)\n",
    "    growthRates = zeros(steps)\n",
    "    waveSpeeds = zeros(steps)\n",
    "    minWaveSpeeds = zeros(steps)\n",
    "    eigenvectors = []\n",
    "    \n",
    "    for i=1:steps\n",
    "        kx = kxValues[i]\n",
    "        max_im, max_ind = findmax(imag(eigenObjectsArray[i][:values]))\n",
    "        append!(eigenvectors, [eigenObjectsArray[i][:vectors]])\n",
    "        waveSpeeds[i] = real(eigenObjectsArray[i][:values][max_ind])\n",
    "        minWaveSpeeds[i] = minimum(real(eigenObjectsArray[i][:values]))\n",
    "        growthRates[i] = max_im*kx\n",
    "    end\n",
    "    \n",
    "    return growthRates, eigenvectors, waveSpeeds, minWaveSpeeds\n",
    "end\n",
    "\n",
    "function createFourStabilityPlots(sizeOfMatrix, S_function, growthRates, eigenvectors, waveSpeeds, minWaveSpeeds, kx_values, ky_value)\n",
    "    B = B_ij(sizeOfMatrix)\n",
    "    L = L_ij(sizeOfMatrix, S_function)\n",
    "    M = M_ij(sizeOfMatrix)\n",
    "    \n",
    "    maxIndex = indmax(growthRates)\n",
    "    maxKx = kx_values[maxIndex]\n",
    "    println(\"Max growth rate at kx=$maxKx\")\n",
    "\n",
    "    highVector = vectors[maxIndex]\n",
    "    vectorSize = length(highVector[:,1])\n",
    "    highVector_bottom = highVector[vectorSize,1] \n",
    "    psi_coeffs = highVector[1,1]*psi(sizeOfMatrix, maxKx, ky_value, M, L, 1.)-highVector_bottom*psi(sizeOfMatrix,maxKx,ky_value, M,L,0.)\n",
    "\n",
    "    heights = linspace(0,1,100)\n",
    "    psi_angles = zeros(length(heights))\n",
    "    psi_amps = zeros(length(heights))\n",
    "    for i=1:length(heights)\n",
    "        psi_val = galerkin_p_psi_print(sizeOfMatrix, psi_coeffs, heights[i])\n",
    "        psi_angles[i] = angle(psi_val)\n",
    "        psi_amps[i] = abs(psi_val)\n",
    "    end\n",
    "\n",
    "    #print(kxs[25])\n",
    "    fig, axes = subplots(2,2)\n",
    "    ax = axes[1,1]\n",
    "    ax[:plot](kx_values, growthRates, label=\"N = $matrixSize\")\n",
    "    ax[:legend](loc=\"upper right\")\n",
    "    ax = axes[2,1]\n",
    "    ax[:plot](kx_values, w_speeds, \"b-\")\n",
    "    ax[:plot](kx_values, w_minSpeeds, \"b-\")\n",
    "    ax[:set_ylim]([0,1])\n",
    "    ax = axes[1,2]\n",
    "    ax[:plot](psi_angles - psi_angles[1], heights)\n",
    "\n",
    "    ax = axes[2,2]\n",
    "    ax[:plot](psi_amps/maximum(psi_amps), heights)\n",
    "end"
   ]
  },
  {
   "cell_type": "markdown",
   "metadata": {},
   "source": [
    "# Eady Problem"
   ]
  },
  {
   "cell_type": "code",
   "execution_count": 8,
   "metadata": {},
   "outputs": [
    {
     "data": {
      "text/plain": [
       "dq (generic function with 1 method)"
      ]
     },
     "execution_count": 8,
     "metadata": {},
     "output_type": "execute_result"
    }
   ],
   "source": [
    "function z_linear(value::Float64)\n",
    "    return value\n",
    "end\n",
    "\n",
    "function dz(value::Float64)\n",
    "    return 1\n",
    "end \n",
    "\n",
    "function dq(value::Float64)\n",
    "    return 0\n",
    "end"
   ]
  },
  {
   "cell_type": "code",
   "execution_count": null,
   "metadata": {},
   "outputs": [],
   "source": [
    "#Testing galerkin u\n",
    "#=\n",
    "first_coefficient = 0.5\n",
    "matrixSize = 15\n",
    "B = B_ij(matrixSize)\n",
    "L = L_ij(matrixSize, S_constant)\n",
    "M = M_ij(matrixSize)\n",
    "\n",
    "dqc = dq_galerkin_coefficients(matrixSize, dq)\n",
    "ugc = u_galerkin_coefficients(matrixSize, dqc,dy_vartheta_bar(S_constant, dz, 1.), dy_vartheta_bar(S_constant, dz, 0.), first_coefficient, dz, S_constant, L, B)\n",
    "\n",
    "#Test method\n",
    "u_galerkin(matrixSize, ugc, .1)\n",
    "#U_ij(matixSize, ugc)\n",
    "\n",
    "#dq_galerkin(matrixSize, dqc, .3)\n",
    "#Q_ij(matrixSize, dqc)=#"
   ]
  },
  {
   "cell_type": "code",
   "execution_count": 15,
   "metadata": {},
   "outputs": [
    {
     "data": {
      "image/png": "[encoded data removed]",
      "text/plain": [
       "PyPlot.Figure(PyObject <matplotlib.figure.Figure object at 0x0000000021741BE0>)"
      ]
     },
     "metadata": {},
     "output_type": "display_data"
    },
    {
     "name": "stdout",
     "output_type": "stream",
     "text": [
      "Matrices Computed\n",
      "Done computing eigenvalues and eigenvectors for all kx's\n",
      "Max growth rate at kx=1.7\n"
     ]
    },
    {
     "data": {
      "text/plain": [
       "1-element Array{PyCall.PyObject,1}:\n",
       " PyObject <matplotlib.lines.Line2D object at 0x00000000218666A0>"
      ]
     },
     "execution_count": 15,
     "metadata": {},
     "output_type": "execute_result"
    }
   ],
   "source": [
    "using PyPlot\n",
    "ioff()\n",
    "\n",
    "nodePoints = 100 # redefining for ease of alteration\n",
    "matrixSize = 3\n",
    "\n",
    "first_coefficient = 0.5\n",
    "kxStart = 0.1\n",
    "kxFinish = 10.\n",
    "steps = 100\n",
    "beta = 0\n",
    "ky = 0\n",
    "kxs = linspace(kxStart, kxFinish, steps) \n",
    "eigenValuesAndVectors = getSimplifiedStabilityEigenObjectsOfKx(matrixSize, beta, ky, kxs, S_constant, dq, dz, dy_vartheta_bar(S_constant, dz, 1.), dy_vartheta_bar(S_constant, dz, 0.), first_coefficient)\n",
    "growthRates, vectors, w_speeds, w_minSpeeds = getStabilityValues(eigenValuesAndVectors, kxs)\n",
    "\n",
    "createFourStabilityPlots(matrixSize, S_constant, growthRates, vectors, w_speeds, w_minSpeeds, kxs, ky)"
   ]
  },
  {
   "cell_type": "markdown",
   "metadata": {},
   "source": [
    "# Eady Verification Test"
   ]
  },
  {
   "cell_type": "code",
   "execution_count": 14,
   "metadata": {},
   "outputs": [
    {
     "data": {
      "image/png": "[encoded data removed]",
      "text/plain": [
       "PyPlot.Figure(PyObject <matplotlib.figure.Figure object at 0x000000002F190198>)"
      ]
     },
     "metadata": {},
     "output_type": "display_data"
    },
    {
     "name": "stdout",
     "output_type": "stream",
     "text": [
      "Matrices Computed\n",
      "Done computing eigenvalues and eigenvectors for all kx's\n",
      "Max growth rate at kx=1.6\n"
     ]
    },
    {
     "data": {
      "text/plain": [
       "1-element Array{PyCall.PyObject,1}:\n",
       " PyObject <matplotlib.lines.Line2D object at 0x00000000216B5198>"
      ]
     },
     "execution_count": 14,
     "metadata": {},
     "output_type": "execute_result"
    }
   ],
   "source": [
    "using PyPlot\n",
    "ioff()\n",
    "\n",
    "matrixSize = 5\n",
    "first_coefficient = 0.5\n",
    "\n",
    "B = B_ij(matrixSize)\n",
    "L = L_ij(matrixSize, S_constant)\n",
    "M = M_ij(matrixSize)\n",
    "\n",
    "kxStart = 0.1\n",
    "kxFinish = 10.\n",
    "steps = 100\n",
    "beta = 0\n",
    "ky = 0\n",
    "kxs = linspace(kxStart, kxFinish, steps)\n",
    "eigenValuesAndVectors = getCompleteStabilityEigenObjectsOfKx(matrixSize, beta, ky, kxs, S_constant, dq, dz, dy_vartheta_bar(S_constant, dz, 1.), dy_vartheta_bar(S_constant, dz, 0.), first_coefficient)\n",
    "growthRates, vectors, w_speeds, w_minSpeeds = getStabilityValues(eigenValuesAndVectors, kxs)\n",
    "\n",
    "createFourStabilityPlots(matrixSize, S_constant, growthRates, vectors, w_speeds, w_minSpeeds, kxs, ky)"
   ]
  },
  {
   "cell_type": "markdown",
   "metadata": {},
   "source": [
    "# Ocean-Charney Stability"
   ]
  },
  {
   "cell_type": "code",
   "execution_count": 16,
   "metadata": {},
   "outputs": [
    {
     "name": "stdout",
     "output_type": "stream",
     "text": [
      "Matrices Computed\n",
      "Done computing eigenvalues and eigenvectors for all kx's\n"
     ]
    },
    {
     "data": {
      "image/png": "[encoded data removed]",
      "text/plain": [
       "PyPlot.Figure(PyObject <matplotlib.figure.Figure object at 0x0000000021593860>)"
      ]
     },
     "metadata": {},
     "output_type": "display_data"
    },
    {
     "name": "stdout",
     "output_type": "stream",
     "text": [
      "Max growth rate at kx=0.23733733733733733\n"
     ]
    },
    {
     "data": {
      "text/plain": [
       "1-element Array{PyCall.PyObject,1}:\n",
       " PyObject <matplotlib.lines.Line2D object at 0x00000000219EED68>"
      ]
     },
     "execution_count": 16,
     "metadata": {},
     "output_type": "execute_result"
    }
   ],
   "source": [
    "using PyPlot\n",
    "\n",
    "function u_OC(value)\n",
    "    if(value isa Number)\n",
    "        return 1/54*(3*exp(6*value)*(6*value -1)-2*exp(6)-1)\n",
    "    else\n",
    "        vector = zeros(length(value))\n",
    "        for i=1:length(value)\n",
    "            vector[i] = 1/54*(3*exp(6*value[i])*(6*value[i] -1)-2*exp(6)-1)\n",
    "        end\n",
    "        return vector\n",
    "    end\n",
    "end\n",
    "\n",
    "function dq_OC(value)  \n",
    "    if(value isa Number)\n",
    "        return -2\n",
    "    else\n",
    "        vector = zeros(length(value))\n",
    "        for i=1:length(value)\n",
    "            vector[i] = -2\n",
    "        end\n",
    "        return vector\n",
    "    end\n",
    "end\n",
    "\n",
    "function S_OC(value)\n",
    "    if(value isa Number)\n",
    "        return exp(-6*value)\n",
    "    else\n",
    "        vector = zeros(length(value))\n",
    "        for i=1:length(value)\n",
    "            vector[i] = exp(-6*value[i])\n",
    "        end\n",
    "        return vector\n",
    "    end\n",
    "end\n",
    "   \n",
    "function du_OC(value)\n",
    "    if(value isa Number)\n",
    "        return 1/54(108*value*exp(6*value))\n",
    "    else\n",
    "        vector = zeros(length(value))\n",
    "        for i=1:length(value)\n",
    "            vector[i] = 1/54(108*value[i]*exp(6*value[i]))\n",
    "        end\n",
    "        return vector\n",
    "    end\n",
    "end\n",
    "\n",
    "first_coefficient = 0\n",
    "matrixSize = 50\n",
    "\n",
    "B = B_ij(matrixSize)\n",
    "L = L_ij(matrixSize, S_OC)\n",
    "M = M_ij(matrixSize)\n",
    "\n",
    "kxStart = 0.1\n",
    "kxFinish = 5.\n",
    "steps = 1000\n",
    "beta = 1\n",
    "ky = 0\n",
    "kxs = linspace(kxStart, kxFinish, steps)\n",
    "\n",
    "#= Test set \n",
    "(B,L,M,U,Q,u_coefficients,dq_coefficients) = computeMatricesForStabilityAnalysis(matrixSize,S_OC, dq_OC, du_OC, -2, 0, first_coefficient)\n",
    "testPoint = 0.9\n",
    "realValue = u_OC(testPoint)\n",
    "galerkinValue = u_galerkin(matrixSize, u_coefficients, testPoint)\n",
    "x = 0.1:0.01:0.9\n",
    "plot(x, u_OC(x), x, u_galerkin(matrixSize, u_coefficients, x))\n",
    "=#\n",
    "\n",
    "eigenValuesAndVectors = getCompleteStabilityEigenObjectsOfKx(matrixSize, beta, ky, kxs, S_OC, dq_OC, du_OC, -2, 0, first_coefficient)\n",
    "growthRates, vectors, w_speeds, w_minSpeeds = getStabilityValues(eigenValuesAndVectors, kxs)\n",
    "\n",
    "createFourStabilityPlots(matrixSize, S_OC, growthRates, vectors, w_speeds, w_minSpeeds, kxs, ky)"
   ]
  },
  {
   "cell_type": "code",
   "execution_count": null,
   "metadata": {},
   "outputs": [],
   "source": []
  },
  {
   "cell_type": "markdown",
   "metadata": {},
   "source": [
    "# First Baroclinic Mode Comparison"
   ]
  },
  {
   "cell_type": "code",
   "execution_count": null,
   "metadata": {},
   "outputs": [],
   "source": [
    "using PyPlot\n",
    "\n",
    "function isNonZero(value)\n",
    "    return (value != 0)\n",
    "end\n",
    "\n",
    "function firstBaroclinic(value)\n",
    "    return cos.(pi*value)\n",
    "end\n",
    "\n",
    "function computeFirstBaroclinicError(matrixSize, trueFirstFuction, stepsZeroToOne, S_function)\n",
    "    #Compute Matricies\n",
    "    M = M_ij(matrixSize)\n",
    "    #spy(Hermitian(M))\n",
    "    L = L_ij(matrixSize, S_function)\n",
    "    G = chol(M)'\n",
    "\n",
    "    #Compute eigenvalues and eigenvectors\n",
    "    LGL = (G\\L)/(G')\n",
    "    eigenObject = eigfact(LGL)\n",
    "    e_vectors = eigenObject[:vectors]\n",
    "    e_values = eigenObject[:values]\n",
    "    minimumNonZero = minimum(filter!(isNonZero,e_values))\n",
    "    index = findfirst(e_values, minimumNonZero)\n",
    "    neededEVector = e_vectors[:,index]\n",
    "    neededEVector = (LGL - e_values[index]*eye(matrixSize))\\neededEVector\n",
    "    neededEVector = G'\\neededEVector\n",
    "    #println(neededEVector)\n",
    "#    normalizationFactor = 1./galerkin_p_psi_print(matrixSize, neededEVector, 0.)\n",
    "    \n",
    "    #Calculate Error\n",
    "    z, weights = gausslegendre(stepsZeroToOne)\n",
    "    real = trueFirstFuction(z)\n",
    "    estimate = galerkin_p_psi_print(matrixSize, neededEVector, z)\n",
    "    normalizationFactor = dot(weights,real.*estimate)/dot(weights,estimate.*estimate)\n",
    "    estimate = normalizationFactor*estimate\n",
    "    #println(\"True Values: $real\")\n",
    "    #println(\"Appx Values: $estimate\")\n",
    "    #println()\n",
    "#    sumError = 0.\n",
    "#    for i=1:length(z)\n",
    "#        sumError += abs2(real[i]-estimate[i])\n",
    "#    end\n",
    "#    totalError = sqrt(sumError/stepsZeroToOne)\n",
    "    totalError = sqrt(dot(weights,abs2.(real-estimate)))\n",
    "    return totalError\n",
    "end\n",
    "\n",
    "#computeFirstBaroclinicError(15, firstBaroclinic, 10)\n",
    "\n",
    "errors = zeros(20)\n",
    "nValues = 3:22;\n",
    "for i =nValues\n",
    "    #println(\"N = $i\")\n",
    "    errors[i-2] = computeFirstBaroclinicError(i, firstBaroclinic, 201, S_constant)\n",
    "    #println()\n",
    "end\n",
    "#plot(nValues,errors)\n",
    "loglog(nValues[2:2:end], errors[2:2:end])"
   ]
  },
  {
   "cell_type": "markdown",
   "metadata": {},
   "source": [
    "# Finite Difference Analysis"
   ]
  },
  {
   "cell_type": "code",
   "execution_count": null,
   "metadata": {},
   "outputs": [],
   "source": [
    "function z_elements(size)\n",
    "    stepSize = 1/size\n",
    "    elements = zeros(size)\n",
    "    elements[1] = stepSize/2\n",
    "    for i = 2:size\n",
    "        elements[i] = elements[i-1]+stepSize;\n",
    "    end\n",
    "    return elements\n",
    "end\n",
    "\n",
    "function U_fd(size, u_function)\n",
    "    z_k = z_elements(size)\n",
    "    fullMatrix = Diagonal(u_function(z_k))\n",
    "    return fullMatrix\n",
    "end\n",
    "\n",
    "function L_fd(size, S)\n",
    "    deltaZ = 1/size\n",
    "    fullMatrix = zeros(size, size)\n",
    "    fullMatrix[1,1] = S(deltaZ)\n",
    "    fullMatrix[1,2] = -S(deltaZ)\n",
    "    fullMatrix[size,size] = S((size-1)*deltaZ)\n",
    "    fullMatrix[size,size-1] = -S((size-1)*deltaZ)\n",
    "    for i=2:size-1\n",
    "        fullMatrix[i, i-1] = -S((i-1)*deltaZ)\n",
    "        fullMatrix[i,i] = S((i-1)*deltaZ)+S(i*deltaZ)\n",
    "        fullMatrix[i, i+1] = -S(i*deltaZ)\n",
    "    end\n",
    "    normalize = 1./(deltaZ^2)\n",
    "    return fullMatrix*normalize\n",
    "end\n",
    "\n",
    "function Q_fd(size, u_function, L_matrix)\n",
    "    zk = z_elements(size)\n",
    "    u_matrix = u_function(zk)\n",
    "    diagonals = L_matrix*u_matrix\n",
    "    fullMatrix = Diagonal(diagonals)\n",
    "    return fullMatrix\n",
    "end\n",
    "\n",
    "#z_elements(8)\n",
    "#L = L_fd(5, z_linear)\n",
    "#Q_fd(5,u_linear,L)"
   ]
  },
  {
   "cell_type": "code",
   "execution_count": null,
   "metadata": {},
   "outputs": [],
   "source": [
    "function u_linear(value)\n",
    "    return value\n",
    "end\n",
    "\n",
    "function growthRateEigenValues_fd(sizeOfMatrix, beta_value, ky, kxValues, steps, S_function, u_function)\n",
    "    U = U_fd(sizeOfMatrix, u_function)\n",
    "    L = L_fd(sizeOfMatrix, S_function)\n",
    "    Q = Q_fd(sizeOfMatrix, u_function, L)\n",
    "    println(\"Matrices Computed\")\n",
    "    \n",
    "    growthRates = zeros(steps)\n",
    "    waveSpeeds = zeros(steps)\n",
    "    minWaveSpeeds = zeros(steps)\n",
    "    eigenvectors = []\n",
    "    for i=1:steps\n",
    "        #println()\n",
    "        kx = kxValues[i]\n",
    "        lhs = U*(Diagonal(zeros(sizeOfMatrix)+(kx^2+ky^2))+L) - (Q+Diagonal(zeros(sizeOfMatrix)+beta_value))\n",
    "        rhs = Diagonal(zeros(sizeOfMatrix)+(kx^2+ky^2))+L\n",
    "        #println(lhs)\n",
    "        eigenObject = eigfact(lhs, rhs)\n",
    "        max_im = maximum(imag(eigenObject[:values]))\n",
    "        #println(eigenObject[:vectors])\n",
    "        append!(eigenvectors, [eigenObject[:vectors]])\n",
    "        waveSpeeds[i] = maximum(real(eigenObject[:values]))\n",
    "        minWaveSpeeds[i] = minimum(real(eigenObject[:values]))\n",
    "        growthRates[i] = max_im*kx\n",
    "    end\n",
    "    return growthRates, eigenvectors, waveSpeeds, minWaveSpeeds\n",
    "end"
   ]
  },
  {
   "cell_type": "markdown",
   "metadata": {},
   "source": [
    "# Finite Difference - Eady Problem"
   ]
  },
  {
   "cell_type": "code",
   "execution_count": null,
   "metadata": {},
   "outputs": [],
   "source": [
    "using PyPlot\n",
    "matrixSize = 10\n",
    "\n",
    "kxStart = 0.1\n",
    "kxFinish = 10.\n",
    "steps = 1000\n",
    "beta = 0\n",
    "ky = 0\n",
    "\n",
    "kxs = linspace(kxStart, kxFinish, steps)\n",
    "growthRates, vectors, w_speeds, w_minSpeeds = growthRateEigenValues_fd(matrixSize, beta, ky, kxs, steps, S_constant, u_linear)\n",
    "plot(kxs, growthRates)"
   ]
  },
  {
   "cell_type": "markdown",
   "metadata": {},
   "source": [
    "# Finite Difference - Ocean Charney"
   ]
  },
  {
   "cell_type": "code",
   "execution_count": null,
   "metadata": {},
   "outputs": [],
   "source": [
    "using PyPlot\n",
    "function S_OC(value)\n",
    "    if(value isa Number)\n",
    "        return exp(-6*value)\n",
    "    else\n",
    "        vector = zeros(length(value))\n",
    "        for i=1:length(value)\n",
    "            vector[i] = exp(-6*value[i])\n",
    "        end\n",
    "        return vector\n",
    "    end\n",
    "end\n",
    "\n",
    "function u_OC(value)\n",
    "    if(value isa Number)\n",
    "        return 1/54*(3*exp(6*value)*(6*value -1)-2*exp(6)-1)\n",
    "    else\n",
    "        vector = zeros(length(value))\n",
    "        for i=1:length(value)\n",
    "            vector[i] = 1/54*(3*exp(6*value[i])*(6*value[i] -1)-2*exp(6)-1)\n",
    "        end\n",
    "        return vector\n",
    "    end\n",
    "end\n",
    "\n",
    "matrixSize = 40\n",
    "\n",
    "kxStart = 0.1\n",
    "kxFinish = 10.\n",
    "steps = 1000\n",
    "beta = 0\n",
    "ky = 0\n",
    "\n",
    "kxs = linspace(kxStart, kxFinish, steps)\n",
    "growthRates, vectors, w_speeds, w_minSpeeds = growthRateEigenValues_fd(matrixSize, beta, ky, kxs, steps, S_OC, u_OC)\n",
    "fig, axes = subplots(2,1)\n",
    "ax = axes[1,1]\n",
    "ax[:plot](kxs, growthRates, label=\"N = $matrixSize\")\n",
    "ax[:legend](loc=\"upper right\")\n",
    "ax = axes[2,1]\n",
    "ax[:plot](kxs, w_speeds, \"b-\")\n",
    "ax[:plot](kxs, w_minSpeeds, \"b-\")"
   ]
  },
  {
   "cell_type": "code",
   "execution_count": null,
   "metadata": {},
   "outputs": [],
   "source": []
  }
 ],
 "metadata": {
  "kernelspec": {
   "display_name": "Julia 0.6.2",
   "language": "julia",
   "name": "julia-0.6"
  },
  "language_info": {
   "file_extension": ".jl",
   "mimetype": "application/julia",
   "name": "julia",
   "version": "0.6.2"
  }
 },
 "nbformat": 4,
 "nbformat_minor": 2
}
