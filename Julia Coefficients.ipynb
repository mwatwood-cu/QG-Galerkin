{
 "cells": [
  {
   "cell_type": "code",
   "execution_count": null,
   "metadata": {},
   "outputs": [],
   "source": [
    "Pkg.add(\"Jacobi\")\n",
    "Pkg.add(\"GaussQuadrature\")"
   ]
  },
  {
   "cell_type": "code",
   "execution_count": 60,
   "metadata": {},
   "outputs": [
    {
     "data": {
      "text/plain": [
       "L_in (generic function with 1 method)"
      ]
     },
     "execution_count": 60,
     "metadata": {},
     "output_type": "execute_result"
    }
   ],
   "source": [
    "using Jacobi\n",
    "\n",
    "f_0 = 1\n",
    "H = 1\n",
    "\n",
    "function b_n(n::Int64)\n",
    "    numerator = -n*(n+1)\n",
    "    denominator = (n+2)*(n+3)\n",
    "    return numerator/denominator\n",
    "end\n",
    "\n",
    "function M_in(size::Int64)\n",
    "    fullMatrix = zeros(size,size)\n",
    "    for i=0:size-1\n",
    "        for j=0:size-1\n",
    "            if i==j\n",
    "                fullMatrix[i+1, j+1] = 2/(2*i+1) + (b_n(i)*b_n(i))*(2/(2*i+5))\n",
    "            elseif i==j+2\n",
    "                fullMatrix[i+1, j+1] = b_n(j)*(2/(2*j+5))\n",
    "            elseif i==j-2\n",
    "                fullMatrix[i+1, j+1] = b_n(i)*(2/(2*j+5))\n",
    "            end\n",
    "        end\n",
    "    end\n",
    "    return fullMatrix\n",
    "end\n",
    "\n",
    "function B_in(size::Int64)\n",
    "    fullMatrix = zeros(size,size)\n",
    "    for i=0:size-1\n",
    "        for j=0:size-1\n",
    "            if i==j\n",
    "                fullMatrix[i+1,j+1]=2/(2*i+1)\n",
    "            elseif i==j+2\n",
    "                fullMatrix[i+1,j+1]=b_n(j)*2/(2*j+5)\n",
    "            end\n",
    "        end\n",
    "    end\n",
    "    return fullMatrix\n",
    "end\n",
    "\n",
    "function L_in(N::Function, size::Int64)\n",
    "    fullArray = zeros(size,size)\n",
    "    values = zgj(size, 0, 0)\n",
    "    weights = wgj(values, 0, 0)\n",
    "    for i=0:size-1\n",
    "        for j=0:size-1\n",
    "            sumTotal = 0\n",
    "            for k=0:size-1\n",
    "                dp_i = djacobi(values[k+1],i,0,0)+b_n(i)*djacobi(values[k+1],i+2,0,0)\n",
    "                dp_j = djacobi(values[k+1],j,0,0)+b_n(j)*djacobi(values[k+1],j+2,0,0)\n",
    "                newPiece = weights[k+1]*(f_0*f_0/(H*H*N(values[k+1])*N(values[k+1])))*dp_i*dp_j\n",
    "                sumTotal = sumTotal + newPiece\n",
    "            end\n",
    "            fullArray[i+1,j+1] = sumTotal\n",
    "        end\n",
    "    end\n",
    "    return fullArray\n",
    "end"
   ]
  },
  {
   "cell_type": "markdown",
   "metadata": {},
   "source": []
  },
  {
   "cell_type": "code",
   "execution_count": 73,
   "metadata": {},
   "outputs": [
    {
     "data": {
      "text/plain": [
       "dq_galerkin (generic function with 1 method)"
      ]
     },
     "execution_count": 73,
     "metadata": {},
     "output_type": "execute_result"
    }
   ],
   "source": [
    "function u_g_rhs(u_bar::Function, size::Int64)\n",
    "    fullArray = zeros(size)\n",
    "    values = zgj(size, 0, 0)\n",
    "    weights = wgj(values, 0, 0)\n",
    "    for i =0:size-1\n",
    "        sumTotal = 0\n",
    "        for k=0:size-1\n",
    "            p_n = jacobi(values[k+1], i,0,0)\n",
    "            sumTotal = sumTotal + weights[k+1]*p_n*u_bar(values[k+1])\n",
    "        end\n",
    "        fullArray[i+1] = sumTotal\n",
    "    end\n",
    "    return fullArray\n",
    "end\n",
    "\n",
    "function u_galerkin(u_bar::Function, size::Int64)\n",
    "    u_lhs = M_in(size)\n",
    "    u_rhs = u_g_rhs(u_bar, size)\n",
    "    return inv(u_lhs)*u_rhs\n",
    "end\n",
    "\n",
    "function p_function(size::Int64, value::Float64)\n",
    "    fullArray = zeros(size)\n",
    "    for i=0:size-1\n",
    "        fullArray[i+1] = jacobi(value,i,0,0)+b_n(i)*jacobi(value,i+2,0,0)\n",
    "    end\n",
    "    return fullArray\n",
    "end\n",
    "\n",
    "function dy_vartheta_bar(N::Function, du_bar::Function, value::Float64)\n",
    "    return -(f_0*f_0/(H*H*N(value)*N(value)))*du_bar(value)\n",
    "end\n",
    "\n",
    "function dy_psi(u_bar::Function, size::Int64)\n",
    "    return -u_galerkin(u_bar, size)\n",
    "end\n",
    "\n",
    "function dq_galerkin(u_bar::Function, du_bar::Function, N::Function, size::Int64)\n",
    "    r_piece1 = L_in(N, size)*dy_psi(u_bar, size)\n",
    "    r_piece2 = dy_vartheta_bar(N,du_bar,1.0)*p_function(size,1.0)\n",
    "    r_piece3 = dy_vartheta_bar(N,du_bar,0.0)*p_function(size,0.0)\n",
    "    lhs = B_in(size)\n",
    "    rhs = r_piece1+r_piece2-r_piece3\n",
    "    return inv(lhs)*rhs\n",
    "end"
   ]
  },
  {
   "cell_type": "code",
   "execution_count": 74,
   "metadata": {},
   "outputs": [
    {
     "data": {
      "text/plain": [
       "5-element Array{Float64,1}:\n",
       "  0.0     \n",
       " -3.73749 \n",
       " -3.28125 \n",
       " -6.51572 \n",
       " -0.984375"
      ]
     },
     "execution_count": 74,
     "metadata": {},
     "output_type": "execute_result"
    }
   ],
   "source": [
    "using Jacobi\n",
    "\n",
    "function N_constant(value::Float64)\n",
    "    return 1\n",
    "end\n",
    "\n",
    "function z_linear(value::Float64)\n",
    "    return value\n",
    "end\n",
    "\n",
    "function dz(value::Float64)\n",
    "    return 1\n",
    "end \n",
    "l = L_in(N_constant, 5)\n",
    "dpsi = dy_psi(z_linear, 5)\n",
    "#p_function(5,1.0)\n",
    "#dy_vartheta_bar(N_constant, dz,1.0)*p_function(5,1.0)\n",
    "\n",
    "#u_galerkin(z_linear,5)\n",
    "dq_galerkin(z_linear, dz, N_constant, 5)"
   ]
  },
  {
   "cell_type": "code",
   "execution_count": null,
   "metadata": {},
   "outputs": [],
   "source": []
  }
 ],
 "metadata": {
  "kernelspec": {
   "display_name": "Julia 0.6.2",
   "language": "julia",
   "name": "julia-0.6"
  },
  "language_info": {
   "file_extension": ".jl",
   "mimetype": "application/julia",
   "name": "julia",
   "version": "0.6.2"
  }
 },
 "nbformat": 4,
 "nbformat_minor": 2
}
