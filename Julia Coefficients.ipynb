{
 "cells": [
  {
   "cell_type": "code",
   "execution_count": null,
   "metadata": {},
   "outputs": [],
   "source": [
    "Pkg.add(\"Jacobi\")\n",
    "Pkg.add(\"GaussQuadrature\")"
   ]
  },
  {
   "cell_type": "code",
   "execution_count": 83,
   "metadata": {},
   "outputs": [
    {
     "data": {
      "text/plain": [
       "L_ij (generic function with 1 method)"
      ]
     },
     "execution_count": 83,
     "metadata": {},
     "output_type": "execute_result"
    }
   ],
   "source": [
    "using Jacobi\n",
    "\n",
    "f_0 = 1\n",
    "H = 1\n",
    "\n",
    "function b_n(n::Int64)\n",
    "    numerator = -n*(n+1)\n",
    "    denominator = (n+2)*(n+3)\n",
    "    return numerator/denominator\n",
    "end\n",
    "\n",
    "function M_ij(size::Int64)\n",
    "    fullMatrix = zeros(size,size)\n",
    "    for i=0:size-1\n",
    "        for j=0:size-1\n",
    "            if i==j\n",
    "                fullMatrix[i+1, j+1] = 2/(2*i+1) + (b_n(i)*b_n(i))*(2/(2*i+5))\n",
    "            elseif i==j+2\n",
    "                fullMatrix[i+1, j+1] = b_n(j)*(2/(2*j+5))\n",
    "            elseif i==j-2\n",
    "                fullMatrix[i+1, j+1] = b_n(i)*(2/(2*j+5))\n",
    "            end\n",
    "        end\n",
    "    end\n",
    "    return fullMatrix\n",
    "end\n",
    "\n",
    "function B_ij(size::Int64)\n",
    "    fullMatrix = zeros(size,size)\n",
    "    for i=0:size-1\n",
    "        for j=0:size-1\n",
    "            if i==j\n",
    "                fullMatrix[i+1,j+1]=2/(2*i+1)\n",
    "            elseif i==j+2\n",
    "                fullMatrix[i+1,j+1]=b_n(j)*2/(2*j+5)\n",
    "            end\n",
    "        end\n",
    "    end\n",
    "    return fullMatrix\n",
    "end\n",
    "\n",
    "function L_ij(N::Function, size::Int64)\n",
    "    fullArray = zeros(size,size)\n",
    "    values = zgj(size, 0, 0)\n",
    "    weights = wgj(values, 0, 0)\n",
    "    for i=0:size-1\n",
    "        for j=0:size-1\n",
    "            sumTotal = 0\n",
    "            for k=0:size-1\n",
    "                dp_i = djacobi(values[k+1],i,0,0)+b_n(i)*djacobi(values[k+1],i+2,0,0)\n",
    "                dp_j = djacobi(values[k+1],j,0,0)+b_n(j)*djacobi(values[k+1],j+2,0,0)\n",
    "                newPiece = weights[k+1]*(f_0*f_0/(H*H*N(values[k+1])*N(values[k+1])))*dp_i*dp_j\n",
    "                sumTotal = sumTotal + newPiece\n",
    "            end\n",
    "            fullArray[i+1,j+1] = sumTotal\n",
    "        end\n",
    "    end\n",
    "    return fullArray\n",
    "end"
   ]
  },
  {
   "cell_type": "code",
   "execution_count": 84,
   "metadata": {},
   "outputs": [
    {
     "data": {
      "text/plain": [
       "dq_galerkin (generic function with 2 methods)"
      ]
     },
     "execution_count": 84,
     "metadata": {},
     "output_type": "execute_result"
    }
   ],
   "source": [
    "function u_g_rhs(u_bar::Function, size::Int64)\n",
    "    fullArray = zeros(size)\n",
    "    values = zgj(size, 0, 0)\n",
    "    weights = wgj(values, 0, 0)\n",
    "    for i =0:size-1\n",
    "        sumTotal = 0\n",
    "        for k=0:size-1\n",
    "            p_n = jacobi(values[k+1], i,0,0)\n",
    "            sumTotal = sumTotal + weights[k+1]*p_n*u_bar(values[k+1])\n",
    "        end\n",
    "        fullArray[i+1] = sumTotal\n",
    "    end\n",
    "    return fullArray\n",
    "end\n",
    "\n",
    "function u_galerkin_coefficients(u_bar::Function, size::Int64)\n",
    "    u_lhs = M_ij(size)\n",
    "    u_rhs = u_g_rhs(u_bar, size)\n",
    "    return inv(u_lhs)*u_rhs\n",
    "end\n",
    "\n",
    "function u_galerkin(coefficients, size::Int64, value::Float64)\n",
    "    sumTotal = 0\n",
    "    for i=0:size-1\n",
    "        sumTotal = sumTotal + coefficients[i+1]*(jacobi(value, i, 0,0)+b_n(i)*jacobi(value,i+2,0,0))\n",
    "    end\n",
    "    return sumTotal\n",
    "end\n",
    "\n",
    "function p_function(size::Int64, value::Float64)\n",
    "    fullArray = zeros(size)\n",
    "    for i=0:size-1\n",
    "        fullArray[i+1] = jacobi(value,i,0,0)+b_n(i)*jacobi(value,i+2,0,0)\n",
    "    end\n",
    "    return fullArray\n",
    "end\n",
    "\n",
    "function dy_vartheta_bar(N::Function, du_bar::Function, value::Float64)\n",
    "    return -(f_0*f_0/(H*H*N(value)*N(value)))*du_bar(value)\n",
    "end\n",
    "\n",
    "function dy_psi(u_bar::Function, size::Int64)\n",
    "    return -u_galerkin(u_bar, size)\n",
    "end\n",
    "\n",
    "function dq_galerkin_coefficients(u_bar::Function, du_bar::Function, N::Function, size::Int64)\n",
    "    r_piece1 = L_in(N, size)*dy_psi(u_bar, size)\n",
    "    r_piece2 = dy_vartheta_bar(N,du_bar,1.0)*p_function(size,1.0)\n",
    "    r_piece3 = dy_vartheta_bar(N,du_bar,0.0)*p_function(size,0.0)\n",
    "    lhs = B_ij(size)\n",
    "    rhs = r_piece1+r_piece2-r_piece3\n",
    "    return inv(lhs)*rhs\n",
    "end\n",
    "\n",
    "function dq_galerkin(coefficients, size::Int64, value::Float64)\n",
    "    sumTotal = 0\n",
    "    for i=0:size-1\n",
    "        sumTotal = sumTotal + coefficients[i+1]*jacobi(value,i,0,0)\n",
    "    end\n",
    "    return sumTotal\n",
    "end"
   ]
  },
  {
   "cell_type": "code",
   "execution_count": 86,
   "metadata": {},
   "outputs": [
    {
     "data": {
      "text/plain": [
       "Q_ij (generic function with 1 method)"
      ]
     },
     "execution_count": 86,
     "metadata": {},
     "output_type": "execute_result"
    }
   ],
   "source": [
    "function U_ij(size::Int64, u_galerkin_coefficients)\n",
    "    fullArray = zeros(size,size)\n",
    "    values = zgj(size, 0, 0)\n",
    "    weights = wgj(values, 0, 0)\n",
    "    for i=0:size-1\n",
    "        for j=0:size-1\n",
    "            sumTotal = 0\n",
    "            for k=0:size-1\n",
    "                p_psi = jacobi(values[k+1],i,0,0)+b_n(i)*jacobi(values[k+1],i+2,0,0)\n",
    "                p_q = jacobi(values[k+1],j,0,0)\n",
    "                u_galerk = u_galerkin(u_galerkin_coefficients, size, values[k+1])\n",
    "                sumTotal = sumTotal + weights[k+1]*p_psi*p_q*u_galerk\n",
    "            end\n",
    "            fullArray[i+1, j+1] = sumTotal\n",
    "        end\n",
    "    end\n",
    "    return fullArray\n",
    "end\n",
    "\n",
    "function Q_ij(size::Int64, dq_galerkin_coefficients)\n",
    "    fullArray = zeros(size,size)\n",
    "    values = zgj(size, 0, 0)\n",
    "    weights = wgj(values, 0, 0)\n",
    "    for i=0:size-1\n",
    "        for j=0:size-1\n",
    "            sumTotal = 0\n",
    "            for k=0:size-1\n",
    "                dq_galerk = dq_galerkin(dq_galerkin_coefficients, size, values[k+1])\n",
    "                p_psi_i = jacobi(values[k+1],i,0,0)+b_n(i)*jacobi(values[k+1],i+2,0,0)\n",
    "                p_psi_j = jacobi(values[k+1],j,0,0)+b_n(j)*jacobi(values[k+1],j+2,0,0)\n",
    "                sumTotal = sumTotal + weights[k+1]*dq_galerk*p_psi_i*p_psi_j\n",
    "            end\n",
    "            fullArray[i+1, j+1] = sumTotal\n",
    "        end\n",
    "    end\n",
    "    return fullArray\n",
    "end"
   ]
  },
  {
   "cell_type": "code",
   "execution_count": 88,
   "metadata": {},
   "outputs": [
    {
     "data": {
      "text/plain": [
       "5×5 Array{Float64,2}:\n",
       " -8.88178e-16  -2.18139   -1.24688   -1.86163   -0.305556\n",
       " -2.18139      -0.652006  -1.69044   -0.650463  -1.08804 \n",
       " -1.24688      -1.69044   -0.270126  -1.04993   -0.524678\n",
       " -1.86163      -0.650463  -1.04993   -0.222222  -0.406108\n",
       " -0.305556     -1.08804   -0.524678  -0.406108   0.173414"
      ]
     },
     "execution_count": 88,
     "metadata": {},
     "output_type": "execute_result"
    }
   ],
   "source": [
    "using Jacobi\n",
    "\n",
    "function N_constant(value::Float64)\n",
    "    return 1\n",
    "end\n",
    "\n",
    "function z_linear(value::Float64)\n",
    "    return value\n",
    "end\n",
    "\n",
    "function dz(value::Float64)\n",
    "    return 1\n",
    "end \n",
    "l = L_in(N_constant, 5)\n",
    "dpsi = dy_psi(z_linear, 5)\n",
    "#p_function(5,1.0)\n",
    "#dy_vartheta_bar(N_constant, dz,1.0)*p_function(5,1.0)\n",
    "\n",
    "#ugc = u_galerkin_coefficients(z_linear,5)\n",
    "#u_galerkin(ugc, 5, .5)\n",
    "#U_ij(5, ugc)\n",
    "\n",
    "#dqc = dq_galerkin_coefficients(z_linear, dz, N_constant, 5)\n",
    "#dq_galerkin(dqc, 5, .3)\n",
    "#Q_ij(5, dqc)"
   ]
  },
  {
   "cell_type": "code",
   "execution_count": null,
   "metadata": {},
   "outputs": [],
   "source": []
  }
 ],
 "metadata": {
  "kernelspec": {
   "display_name": "Julia 0.6.2",
   "language": "julia",
   "name": "julia-0.6"
  },
  "language_info": {
   "file_extension": ".jl",
   "mimetype": "application/julia",
   "name": "julia",
   "version": "0.6.2"
  }
 },
 "nbformat": 4,
 "nbformat_minor": 2
}
