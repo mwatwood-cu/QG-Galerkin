{
 "cells": [
  {
   "cell_type": "code",
   "execution_count": 9,
   "metadata": {},
   "outputs": [],
   "source": [
    "from sympy import init_session\n",
    "import numpy as np\n",
    "import numpy.polynomial.legendre as L\n",
    "\n",
    "legendreGaussPoints = 100\n",
    "\n",
    "def b_n(index):\n",
    "    numerator = -index*(index+1)\n",
    "    denominator = (index+2)*(index+3)\n",
    "    bnValue = numerator/denominator\n",
    "    return bnValue\n",
    "\n",
    "def M_in(size):\n",
    "    fullArray = np.zeros(shape=(size, size))\n",
    "    fullMatrix = np.asmatrix(fullArray)\n",
    "    for i in range(size):\n",
    "        for j in range(size):\n",
    "            if i==j:\n",
    "                fullMatrix[i, j] = 2/(2*i+1) + (b_n(i)*b_n(i))*(2/(2*i+5))\n",
    "            elif i==j+2:\n",
    "                fullMatrix[i,j] = b_n(j)*(2/(2*j+5))\n",
    "            elif i==j-2:\n",
    "                fullMatrix[i,j] = b_n(i)*(2/(2*j+1))\n",
    "    return fullMatrix\n",
    " \n",
    "def B_in(size):\n",
    "    fullArray = np.zeros(shape=(size,size))\n",
    "    fullMatrix = np.asmatrix(fullArray)\n",
    "    for i in range(size):\n",
    "        for j in range(size):\n",
    "            if i == j:\n",
    "                fullMatrix[i,j] = 2/(2*i+1)\n",
    "            if i == j+2:\n",
    "                fullMatrix[i,j] = b_n(j)*2/(2*j+5)\n",
    "    return fullMatrix\n",
    "                \n",
    "def shenCoefficients(size):\n",
    "    fullCoefficients = np.zeros(size+2)\n",
    "    for i in range(size):\n",
    "        fullCoefficients[i] = fullCoefficients[i]+1\n",
    "        fullCoefficients[i+2] = b_n(i) + fullCoefficients[i+2]\n",
    "    return fullCoefficients\n",
    "    \n",
    "def L_in(N,size):\n",
    "    fullArray = np.zeros(shape=(size,size))\n",
    "    fullMatrix = np.asmatrix(fullArray)\n",
    "    [values, weights] = L.leggauss(legendreGaussPoints)\n",
    "    for i in range(size):\n",
    "        for j in range(size):\n",
    "            p_i = L.Legendre(shenCoefficients(i))\n",
    "            p_j = L.Legendre(shenCoefficients(j))\n",
    "            dp_i = p_i.deriv(1)\n",
    "            dp_j = p_j.deriv(1)\n",
    "            sumTotal = 0\n",
    "            for k in range(legendreGaussPoints):\n",
    "                sumTotal = sumTotal + weights[k]*N(values[k])*dp_i(values[k])*dp_j(values[k])\n",
    "            fullMatrix[i,j] = sumTotal  \n",
    "    return fullMatrix"
   ]
  },
  {
   "cell_type": "code",
   "execution_count": 18,
   "metadata": {},
   "outputs": [
    {
     "name": "stderr",
     "output_type": "stream",
     "text": [
      "C:\\Program Files (x86)\\Python36-32\\lib\\site-packages\\numpy\\linalg\\linalg.py:1543: RuntimeWarning: divide by zero encountered in true_divide\n",
      "  return s[..., 0]/s[..., -1]\n"
     ]
    },
    {
     "data": {
      "text/plain": [
       "inf"
      ]
     },
     "execution_count": 18,
     "metadata": {},
     "output_type": "execute_result"
    }
   ],
   "source": [
    "def N_function(size):\n",
    "    #Start with constant N function.\n",
    "    return 1\n",
    "\n",
    "L_in(N_function,5)"
   ]
  },
  {
   "cell_type": "code",
   "execution_count": 11,
   "metadata": {},
   "outputs": [
    {
     "name": "stdout",
     "output_type": "stream",
     "text": [
      "leg([ 1.          1.          0.         -0.16666667])\n",
      "leg([ 0.83333333  0.         -0.83333333])\n"
     ]
    }
   ],
   "source": [
    "testphi = L.Legendre(shenCoefficients(2))\n",
    "print((testphi))\n",
    "testdphi = testphi.deriv(1)\n",
    "print((testdphi))"
   ]
  },
  {
   "cell_type": "code",
   "execution_count": 17,
   "metadata": {},
   "outputs": [
    {
     "name": "stderr",
     "output_type": "stream",
     "text": [
      "C:\\Program Files (x86)\\Python36-32\\lib\\site-packages\\numpy\\linalg\\linalg.py:1543: RuntimeWarning: divide by zero encountered in true_divide\n",
      "  return s[..., 0]/s[..., -1]\n"
     ]
    },
    {
     "data": {
      "text/plain": [
       "inf"
      ]
     },
     "execution_count": 17,
     "metadata": {},
     "output_type": "execute_result"
    }
   ],
   "source": [
    "np.linalg.cond(L_in(N_function,10))"
   ]
  },
  {
   "cell_type": "code",
   "execution_count": null,
   "metadata": {},
   "outputs": [],
   "source": [
    "np.linalg.cholesky(M_in(1000))"
   ]
  }
 ],
 "metadata": {
  "kernelspec": {
   "display_name": "Python 3",
   "language": "python",
   "name": "python3"
  },
  "language_info": {
   "codemirror_mode": {
    "name": "ipython",
    "version": 3
   },
   "file_extension": ".py",
   "mimetype": "text/x-python",
   "name": "python",
   "nbconvert_exporter": "python",
   "pygments_lexer": "ipython3",
   "version": "3.6.5"
  }
 },
 "nbformat": 4,
 "nbformat_minor": 2
}
