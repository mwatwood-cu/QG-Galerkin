{
 "cells": [
  {
   "cell_type": "markdown",
   "metadata": {},
   "source": [
    "# Phillips Problem"
   ]
  },
  {
   "cell_type": "code",
   "execution_count": 1,
   "metadata": {},
   "outputs": [],
   "source": [
    "#Functions specific to the Phillips Problem\n",
    "\n",
    "function u_Phillips(value)\n",
    "    if(value isa Number)\n",
    "        return -cos(pi*value)/pi\n",
    "    else\n",
    "        vector = zeros(length(value))\n",
    "        for i=1:length(value)\n",
    "            vector[i] = -cos(pi*value[i])/pi\n",
    "        end\n",
    "        return vector\n",
    "    end\n",
    "end\n",
    "\n",
    "function dq_Phillips(value)  \n",
    "    if(value isa Number)\n",
    "        return pi*cos(pi*value)\n",
    "    else\n",
    "        vector = zeros(length(value))\n",
    "        for i=1:length(value)\n",
    "            vector[i] = pi*cos(pi*value[i])\n",
    "        end\n",
    "        return vector\n",
    "    end\n",
    "end\n",
    "\n",
    "function S_Phillips(value)\n",
    "    if(value isa Number)\n",
    "        return 1\n",
    "    else\n",
    "        vector = zeros(length(value))\n",
    "        for i=1:length(value)\n",
    "            vector[i] = 1\n",
    "        end\n",
    "        return vector\n",
    "    end\n",
    "end\n",
    "   \n",
    "function du_Phillips(value)\n",
    "    if(value isa Number)\n",
    "        return sin(pi*value)\n",
    "    else\n",
    "        vector = zeros(length(value))\n",
    "        for i=1:length(value)\n",
    "            vector[i] = sin(pi*value[i])\n",
    "        end\n",
    "        return vector\n",
    "    end\n",
    "end\n",
    ";"
   ]
  },
  {
   "cell_type": "markdown",
   "metadata": {},
   "source": [
    "# Finite Difference Method"
   ]
  },
  {
   "cell_type": "code",
   "execution_count": null,
   "metadata": {},
   "outputs": [],
   "source": [
    "using PyPlot\n",
    "include(\"FDLinearStability.jl\")\n",
    "\n",
    "#Use 280 to create a best approximate answer used below\n",
    "\n",
    "#matrixSize = 280\n",
    "matrixSize = 140\n",
    "\n",
    "kxStart = .1\n",
    "kxFinish = 4.\n",
    "steps = 400\n",
    "beta = 3.1\n",
    "ky = 0\n",
    "\n",
    "kxs_F = collect(LinRange(kxStart, kxFinish, steps))\n",
    "growthRates_F, eVectors_F, waveSpeeds_F = growthRateEigenValues_fd(matrixSize, beta, ky, kxs_F, S_Phillips, u_Phillips)\n",
    ";"
   ]
  },
  {
   "cell_type": "code",
   "execution_count": null,
   "metadata": {},
   "outputs": [],
   "source": [
    "#Requires cell above to be run\n",
    "\n",
    "plot(kxs_F,growthRates_F)\n",
    "title(\"Phillips Problem Growth Rates\")\n",
    "xlabel(\"Zonal Wavenumber\")\n",
    "ylabel(\"Growth Rate\")\n",
    "#savefig(\"PhillipsProblem.eps\", format=\"eps\", dpi=1000)"
   ]
  },
  {
   "cell_type": "code",
   "execution_count": null,
   "metadata": {},
   "outputs": [],
   "source": [
    "nValues = 2 .^(3:6)\n",
    "\n",
    "#Use below for larger range\n",
    "#nValues = round.(Int64,10.0.^(LinRange(0.8, 2.408,15)))\n",
    "\n",
    "bestValue_fd, bestKxIndex_Phil = findmax(growthRates_F)\n",
    "growthRates_forN_Phil_fd = zeros(length(nValues))\n",
    "kxValue_Phil = 3.\n",
    "for i =1:length(nValues)\n",
    "    matrixSize = nValues[i]\n",
    "    growthRates_fd, vectors_F, w_speeds_F = growthRateEigenValues_fd(matrixSize, beta, ky, kxValue_Phil, S_Phillips, u_Phillips)\n",
    "    growthRates_forN_Phil_fd[i] = growthRates_fd[1]\n",
    "end\n",
    ";"
   ]
  },
  {
   "cell_type": "code",
   "execution_count": null,
   "metadata": {
    "scrolled": false
   },
   "outputs": [],
   "source": [
    "plot(nValues, abs.(growthRates_forN_Phil_fd.-bestValue_fd[1]), color=\"orange\")\n",
    "plot(nValues, 2.3*float(nValues).^-2, color=\"k\", linestyle=\"dashed\")\n",
    "plot(nValues, float(nValues).^-3, color=\"k\", linestyle=\"dashed\")\n",
    "xscale(\"log\")\n",
    "yscale(\"log\")\n",
    "title(\"Finite Difference Growth Rate Approach Phillips Problem\")\n",
    "xlabel(\"Matrix Size\")\n",
    "ylabel(\"Difference from Actual\")\n",
    "annotate(L\"$N^{-2}$\",\n",
    "\txy=[1;0.5],\n",
    "\txycoords=\"axes fraction\",\n",
    "\txytext=[-10,10],\n",
    "\ttextcoords=\"offset points\",\n",
    "\tfontsize=15.0,\n",
    "\tha=\"right\",\n",
    "\tva=\"bottom\")\n",
    "annotate(L\"$N^{-3}$\",\n",
    "\txy=[1;0.1],\n",
    "\txycoords=\"axes fraction\",\n",
    "\txytext=[-10,10],\n",
    "\ttextcoords=\"offset points\",\n",
    "\tfontsize=15.0,\n",
    "\tha=\"right\",\n",
    "\tva=\"bottom\")\n",
    "savefig(\"PhillipsProblemFDApproach.eps\", format=\"eps\", dpi=1000)"
   ]
  },
  {
   "cell_type": "markdown",
   "metadata": {},
   "source": [
    "# Galerkin and Chebyshev Methods"
   ]
  },
  {
   "cell_type": "code",
   "execution_count": null,
   "metadata": {},
   "outputs": [],
   "source": [
    "using PyPlot\n",
    "include(\"GalerkinLinearStability.jl\")\n",
    "include(\"ChebyshevLinearStability.jl\")\n",
    "\n",
    "first_coefficient = 0\n",
    "beta = 3.1\n",
    "ky = 0\n",
    "kxValue = 3.\n",
    "\n",
    "#Creating best approximation using a matrix size larger than will be used next.\n",
    "matrixSize = 90\n",
    "eigenValuesAndVectors = getCompleteStabilityEigenObjectsOfKx(matrixSize, beta, ky, kxValue, S_Phillips, dq_Phillips, du_Phillips, 0, 0, first_coefficient)\n",
    "growthRates_G_Best, vectors_G, w_speeds_G = getStabilityValues(eigenValuesAndVectors, kxValue)\n",
    "\n",
    ";"
   ]
  },
  {
   "cell_type": "code",
   "execution_count": null,
   "metadata": {},
   "outputs": [],
   "source": [
    "nValues = 2 .^(2:6)\n",
    "\n",
    "growthRates_G = zeros(length(nValues))\n",
    "growthRates_C = zeros(length(nValues))\n",
    "\n",
    "kxValue = 3.\n",
    "for i =1:length(nValues)\n",
    "    matrixSize = nValues[i]\n",
    "    println(\"Working on $matrixSize\")\n",
    "    \n",
    "    #Galerkin\n",
    "    eigenValuesAndVectors = getCompleteStabilityEigenObjectsOfKx(matrixSize, beta, ky, kxValue, S_Phillips, dq_Phillips, du_Phillips, 0, 0, first_coefficient)\n",
    "    growthRate, vectors, w_speeds = getStabilityValues(eigenValuesAndVectors, kxValue)\n",
    "    growthRates_G[i] = growthRate[1]\n",
    "    \n",
    "    #Chebyshev\n",
    "    growthRate, vectors_C, w_speeds_C = growthRateEigenValues_Cheb(matrixSize, beta, ky, kxValue, S_Phillips, dq_Phillips, 0, 0, first_coefficient)\n",
    "    growthRates_C[i] = growthRate[1]\n",
    "end\n",
    "println(\"Done\")\n",
    ";"
   ]
  },
  {
   "cell_type": "code",
   "execution_count": null,
   "metadata": {},
   "outputs": [],
   "source": [
    "bestPoint = growthRates_G_Best[1]\n",
    "plot(nValues, abs.(growthRates_G .-bestPoint), label=\"Galerkin\", color=\"b\" )\n",
    "plot(nValues, abs.(growthRates_C .-bestPoint), label=\"Chebyshev\", color=\"g\")\n",
    "yscale(\"log\")\n",
    "title(\"Galerkin and Chebyshev Growth Rate Approach Phillips Problem\")\n",
    "legend(loc=\"upper right\")\n",
    "xlabel(\"Matrix Size\")\n",
    "ylabel(\"Difference from Actual\")\n",
    "#savefig(\"PhillipsProblemApproachFull.eps\", format=\"eps\", dpi=1000)"
   ]
  },
  {
   "cell_type": "code",
   "execution_count": null,
   "metadata": {},
   "outputs": [],
   "source": []
  }
 ],
 "metadata": {
  "kernelspec": {
   "display_name": "Julia 1.0.3",
   "language": "julia",
   "name": "julia-1.0"
  },
  "language_info": {
   "file_extension": ".jl",
   "mimetype": "application/julia",
   "name": "julia",
   "version": "1.0.3"
  }
 },
 "nbformat": 4,
 "nbformat_minor": 2
}
