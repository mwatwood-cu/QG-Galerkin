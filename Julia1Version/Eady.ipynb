{
 "cells": [
  {
   "cell_type": "code",
   "execution_count": 13,
   "metadata": {},
   "outputs": [
    {
     "name": "stdout",
     "output_type": "stream",
     "text": [
      "\u001b[32m\u001b[1m Resolving\u001b[22m\u001b[39m package versions...\n",
      "\u001b[32m\u001b[1m  Updating\u001b[22m\u001b[39m `C:\\Users\\mwatwood\\.julia\\environments\\v1.0\\Project.toml`\n",
      "\u001b[90m [no changes]\u001b[39m\n",
      "\u001b[32m\u001b[1m  Updating\u001b[22m\u001b[39m `C:\\Users\\mwatwood\\.julia\\environments\\v1.0\\Manifest.toml`\n",
      "\u001b[90m [no changes]\u001b[39m\n",
      "\u001b[32m\u001b[1m Resolving\u001b[22m\u001b[39m package versions...\n",
      "\u001b[32m\u001b[1m  Updating\u001b[22m\u001b[39m `C:\\Users\\mwatwood\\.julia\\environments\\v1.0\\Project.toml`\n",
      "\u001b[90m [no changes]\u001b[39m\n",
      "\u001b[32m\u001b[1m  Updating\u001b[22m\u001b[39m `C:\\Users\\mwatwood\\.julia\\environments\\v1.0\\Manifest.toml`\n",
      "\u001b[90m [no changes]\u001b[39m\n"
     ]
    },
    {
     "name": "stderr",
     "output_type": "stream",
     "text": [
      "┌ Warning: Pkg.clone is only kept for legacy CI script reasons, please use `add`\n",
      "└ @ Pkg.API C:\\cygwin\\home\\Administrator\\buildbot\\worker\\package_win64\\build\\usr\\share\\julia\\stdlib\\v1.0\\Pkg\\src\\API.jl:471\n"
     ]
    },
    {
     "name": "stdout",
     "output_type": "stream",
     "text": [
      "\u001b[32m\u001b[1m   Cloning\u001b[22m\u001b[39m git-repo `https://github.com/pjabardo/Jacobi.jl`\n",
      "\u001b[2K\u001b[?25h\u001b[32m\u001b[1m  Updating\u001b[22m\u001b[39m git-repo `https://github.com/pjabardo/Jacobi.jl`%>                        ]  37.8 % [==============================>          ]  74.3 %74.6 %\n",
      "\u001b[2K\u001b[?25h[1mFetching:\u001b[22m\u001b[39m [========================================>]  100.0 %.0 %\u001b[32m\u001b[1m Resolving\u001b[22m\u001b[39m package versions...\n"
     ]
    },
    {
     "name": "stderr",
     "output_type": "stream",
     "text": [
      "┌ Warning: julia version requirement for package Jacobi not satisfied\n",
      "└ @ Pkg.Operations C:\\cygwin\\home\\Administrator\\buildbot\\worker\\package_win64\\build\\usr\\share\\julia\\stdlib\\v1.0\\Pkg\\src\\Operations.jl:183\n"
     ]
    },
    {
     "name": "stdout",
     "output_type": "stream",
     "text": [
      "\u001b[32m\u001b[1m Installed\u001b[22m\u001b[39m Polynomials ─ v0.5.1\n",
      "\u001b[32m\u001b[1m  Updating\u001b[22m\u001b[39m `C:\\Users\\mwatwood\\.julia\\environments\\v1.0\\Project.toml`\n",
      " \u001b[90m [83f21c0b]\u001b[39m\u001b[92m + Jacobi v0.3.0+ [`C:\\Users\\mwatwood\\.julia\\dev\\Jacobi`]\u001b[39m\n",
      "\u001b[32m\u001b[1m  Updating\u001b[22m\u001b[39m `C:\\Users\\mwatwood\\.julia\\environments\\v1.0\\Manifest.toml`\n",
      " \u001b[90m [83f21c0b]\u001b[39m\u001b[92m + Jacobi v0.3.0+ [`C:\\Users\\mwatwood\\.julia\\dev\\Jacobi`]\u001b[39m\n",
      " \u001b[90m [f27b6e38]\u001b[39m\u001b[92m + Polynomials v0.5.1\u001b[39m\n"
     ]
    }
   ],
   "source": [
    "import Pkg\n",
    "Pkg.add(\"PyPlot\")\n",
    "Pkg.add(\"FastGaussQuadrature\")\n",
    "Pkg.add(\"https://github.com/pjabardo/Jacobi.jl\")"
   ]
  },
  {
   "cell_type": "markdown",
   "metadata": {},
   "source": [
    "# Eady Problem"
   ]
  },
  {
   "cell_type": "markdown",
   "metadata": {},
   "source": [
    "First define some functions and constants associated with the Eady background state."
   ]
  },
  {
   "cell_type": "code",
   "execution_count": 7,
   "metadata": {},
   "outputs": [],
   "source": [
    "function u_linear(value)\n",
    "    return value \n",
    "end\n",
    "\n",
    "function dz(value::Float64) # du/dz for u_bar\n",
    "    return 1\n",
    "end \n",
    "\n",
    "function dq(value::Float64)\n",
    "    return 0\n",
    "end\n",
    "\n",
    "function S_constant(value::Float64)\n",
    "    return 1.\n",
    "end\n",
    "\n",
    "first_coefficient = 0.5 # barotropic coefficient for u_bar\n",
    "u_zero = 0 # u_bar at z=0\n",
    "beta = 0.0\n",
    ";"
   ]
  },
  {
   "cell_type": "markdown",
   "metadata": {},
   "source": [
    "Now define some functions associated with the exact solution to the Eady problem."
   ]
  },
  {
   "cell_type": "code",
   "execution_count": 8,
   "metadata": {},
   "outputs": [],
   "source": [
    "function cEady(kxValue::Float64)\n",
    "    inner = (kxValue/2-coth(kxValue/2))*(kxValue/2-tanh(kxValue/2))\n",
    "    c_value = 1/2 + 1/kxValue*((Complex(inner))^(1/2))\n",
    "    return c_value\n",
    "end\n",
    "\n",
    "function AB(kxValue::Float64)\n",
    "    c_value = cEady(kxValue)\n",
    "    matrix = [ 1 kxValue*c_value; (c_value-1)*kxValue*sinh(kxValue)+1*cosh(kxValue) (c_value-1)*kxValue*cosh(kxValue)+1*sinh(kxValue)]\n",
    "    solutions = nullspace(matrix)\n",
    "    return solutions\n",
    "end\n",
    "\n",
    "function waveFunction(kxValue::Float64, zHeight)\n",
    "    ABVal = AB(kxValue)\n",
    "    waveReturn = ABVal[1]*cosh(kxValue*zHeight)+ABVal[2]*sinh(kxValue*zHeight)\n",
    "    return waveReturn\n",
    "end\n",
    ";"
   ]
  },
  {
   "cell_type": "markdown",
   "metadata": {},
   "source": [
    "Now generate a figure comparing the exact solution of the Eady problem to the new energy-conserving Galerkin approximation. The first block defines some auxiliary functions, then the second block uses them to generate the figure. Note that the output of the second block only shows one panel of the figure; all four panels are saved in the local directory as .eps files."
   ]
  },
  {
   "cell_type": "code",
   "execution_count": 19,
   "metadata": {},
   "outputs": [],
   "source": [
    "using PyPlot\n",
    "include(\"GalerkinLinearStability.jl\")\n",
    "function createFourStabilityPlotsCompareToExact(sizeOfMatrix, S_function, growthRates, eigenvectors, waveSpeeds, kx_values, ky_value)\n",
    "    B = B_ij(sizeOfMatrix)\n",
    "    L = L_ij(sizeOfMatrix, S_function)\n",
    "    M = M_ij(sizeOfMatrix)\n",
    "    \n",
    "    maxIndex = argmax(growthRates)\n",
    "    maxKx = kx_values[maxIndex]\n",
    "    highVector = eigenvectors[maxIndex]\n",
    "    vectorSize = length(highVector)\n",
    "    highVector_bottom = highVector[vectorSize] \n",
    "    psi_coeffs = highVector[1]*psi(sizeOfMatrix, maxKx, ky_value, M, L, 1.)-highVector_bottom*psi(sizeOfMatrix,maxKx,ky_value, M,L,0.)\n",
    "    psi_coeffs = psi_coeffs - ( (maxKx^2 + ky_value^2)*M + L ) \\ B*highVector[2:end-1]\n",
    "    \n",
    "    heights = collect(LinRange(0,1,100))\n",
    "    psi_angles = zeros(length(heights))\n",
    "    psi_amps = zeros(length(heights))\n",
    "    psi_angles_exact = zeros(length(heights))\n",
    "    psi_amps_exact = zeros(length(heights))\n",
    "    psi_angles_cheb = zeros(length(heights))\n",
    "    psi_amps_cheb = zeros(length(heights))\n",
    "    for i=1:length(heights)\n",
    "        psi_val = galerkin_p_psi_print(sizeOfMatrix, psi_coeffs, heights[i])\n",
    "        psi_angles[i] = angle(psi_val)\n",
    "        psi_amps[i] = abs(psi_val)\n",
    "        \n",
    "        psiValueExact = waveFunction(1.61, heights[i])\n",
    "        psi_angles_exact[i]= angle(psiValueExact)\n",
    "        psi_amps_exact[i] = abs(psiValueExact)\n",
    "        \n",
    "    end\n",
    "\n",
    "    #Exact Growth Rates and wave speeds\n",
    "    growthRates_exact = zeros(length(kx_values))\n",
    "    w_speeds_exact = zeros(length(kx_values))\n",
    "    for i =1:length(kx_values)\n",
    "        c_value = cEady(kx_values[i])\n",
    "        growthRates_exact[i] = kx_values[i]*imag(c_value)\n",
    "        w_speeds_exact[i] = real(c_value)\n",
    "    end\n",
    "    \n",
    "    plot(psi_amps/maximum(psi_amps), heights, label=\"Galerkin\")\n",
    "    plot(psi_amps_exact/maximum(psi_amps_exact), heights, label=\"Exact\")\n",
    "    legend(loc=\"center right\")\n",
    "    xlabel(\"Amplitude\")\n",
    "    ylabel(\"Height\")\n",
    "    savefig(\"EadyAmplitude.eps\", format=\"eps\", dpi=1000)\n",
    "    cla()\n",
    "    \n",
    "    plot(kx_values, growthRates, label=\"Galerkin\")\n",
    "    plot(kx_values, growthRates_exact, label=\"Exact\")\n",
    "    legend(loc=\"upper right\")\n",
    "    xlabel(\"Zonal Wavenumber\")\n",
    "    ylabel(\"Growth Rate\")\n",
    "    savefig(\"EadyGrowthRates.eps\", format=\"eps\", dpi=1000)\n",
    "    cla()\n",
    "    \n",
    "    plot(kx_values, waveSpeeds, label=\"Galerkin\")\n",
    "    plot(kx_values, w_speeds_exact, label=\"Exact\")\n",
    "    ylim(0,1)\n",
    "    legend(loc=\"lower right\")\n",
    "    xlabel(\"Zonal Wavenumber\")\n",
    "    ylabel(\"Wave Speeds\")\n",
    "    savefig(\"EadyWaveSpeeds.eps\", format=\"eps\", dpi=1000) \n",
    "    cla()\n",
    "    \n",
    "    plot(psi_angles .- psi_angles[1], heights, label=\"Galerkin\")\n",
    "    plot(psi_angles_exact .- psi_angles_exact[1], heights, label=\"Exact\")\n",
    "    legend(loc=\"upper left\")\n",
    "    xlabel(\"Phase\")\n",
    "    ylabel(\"Height\")\n",
    "    savefig(\"EadyPhase.eps\", format=\"eps\", dpi=1000)\n",
    "    \n",
    "end\n",
    ";\n",
    "\n"
   ]
  },
  {
   "cell_type": "code",
   "execution_count": 23,
   "metadata": {},
   "outputs": [
    {
     "data": {
      "image/png": "[encoded data removed]",
      "text/plain": [
       "Figure(PyObject <Figure size 640x480 with 4 Axes>)"
      ]
     },
     "metadata": {},
     "output_type": "display_data"
    },
    {
     "name": "stdout",
     "output_type": "stream",
     "text": [
      "(10, 10)\n"
     ]
    },
    {
     "data": {
      "text/plain": [
       "1-element Array{PyCall.PyObject,1}:\n",
       " PyObject <matplotlib.lines.Line2D object at 0x0000000018FD4EB8>"
      ]
     },
     "execution_count": 23,
     "metadata": {},
     "output_type": "execute_result"
    }
   ],
   "source": [
    "include(\"ChebyshevLinearStability.jl\")\n",
    "\n",
    "matrixSize = 10\n",
    "nodePoints = matrixSize + 2\n",
    "# In the Eady problem, using nodePoints=matrixSize+2 is sufficient to\n",
    "# guarantee machine-precision accuracy in the quadrature\n",
    "\n",
    "kxStart = 0.1\n",
    "kxFinish = 10.\n",
    "steps = 100\n",
    "\n",
    "ky = 0\n",
    "kxs_eady_four = collect(LinRange(kxStart, kxFinish, steps)) \n",
    "#eigenValuesAndVectors_eady_four = getCompleteStabilityEigenObjectsOfKx(matrixSize, beta, ky, kxs_eady_four, S_constant, dq, dz, dy_vartheta_bar(S_constant, dz, 1.), dy_vartheta_bar(S_constant, dz, 0.), first_coefficient)\n",
    "#growthRates_eady_four, vectors_eady_four, w_speeds_eady_four = getStabilityValues(eigenValuesAndVectors_eady_four, kxs_eady_four)\n",
    "\n",
    "\n",
    "### Test running the Chebyshev Colinear\n",
    "growthRates_c, eigenvectors_c, waveSpeeds_c = growthRateEigenValues_Cheb(matrixSize, beta, ky, kxs_eady_four, S_constant, dq, dy_vartheta_bar(S_constant, dz, 1.), dy_vartheta_bar(S_constant, dz, 0.), first_coefficient)\n",
    "createFourStabilityPlots_Cheb(matrixSize, S_constant, growthRates_c, eigenvectors_c, waveSpeeds_c, kxs_eady_four, ky)\n",
    "\n",
    "#The line below will generate comparison images of Galerkin to Exact\n",
    "#createFourStabilityPlotsCompareToExact(matrixSize, S_constant, growthRates_eady_four, vectors_eady_four, w_speeds_eady_four, kxs_eady_four, ky)"
   ]
  },
  {
   "cell_type": "markdown",
   "metadata": {},
   "source": [
    "Next compare the convergence of the growth rate at kx=1.61, ky=0 (approximately the fastest-growing mode) for the Galerkin, second-order energy-conserving finite-difference, and non-energy-conserving Chebyshev collocation methods."
   ]
  },
  {
   "cell_type": "code",
   "execution_count": null,
   "metadata": {},
   "outputs": [],
   "source": [
    "include(\"FDLinearStability.jl\")\n",
    "include(\"ChebyshevLinearStability.jl\")\n",
    "\n",
    "max_kxs = 1.61\n",
    "ky = 0.0\n",
    "growthRates_G = zeros(6)\n",
    "growthRates_F = zeros(6)\n",
    "growthRates_C = zeros(6)\n",
    "\n",
    "sN = 2 .^(3:8)\n",
    "for ii=1:6\n",
    "    matrixSize = sN[ii]\n",
    "    nodePoints = matrixSize + 2\n",
    "    eigenValuesAndVectors_G = getCompleteStabilityEigenObjectsOfKx(matrixSize, beta, ky, max_kxs, S_constant, dq, dz, 1.0, 1.0, first_coefficient)\n",
    "    growthRates, eVecs, waveSpeeds = getStabilityValues(eigenValuesAndVectors_G, max_kxs)\n",
    "    growthRates_G[ii] = maximum(growthRates)\n",
    "\n",
    "    growthRates, eVecs, waveSpeeds = growthRateEigenValues_fd(matrixSize, beta, ky, max_kxs, S_constant, u_linear)\n",
    "    growthRates_F[ii] = maximum(growthRates)\n",
    "\n",
    "    growthRates, eVecs, waveSpeeds = growthRateEigenValues_Cheb(matrixSize, beta, ky, max_kxs, S_constant, dq, 1.0, 1.0, u_zero)\n",
    "    growthRates_C[ii] = maximum(growthRates)\n",
    "end"
   ]
  }
 ],
 "metadata": {
  "kernelspec": {
   "display_name": "Julia 1.0.3",
   "language": "julia",
   "name": "julia-1.0"
  },
  "language_info": {
   "file_extension": ".jl",
   "mimetype": "application/julia",
   "name": "julia",
   "version": "1.0.3"
  }
 },
 "nbformat": 4,
 "nbformat_minor": 2
}
